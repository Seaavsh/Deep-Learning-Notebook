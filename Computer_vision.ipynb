{
 "cells": [
  {
   "cell_type": "code",
   "execution_count": 1,
   "metadata": {},
   "outputs": [],
   "source": [
    "import torch \n",
    "from torch import nn\n",
    "\n",
    "import torchvision \n",
    "from torchvision import datasets\n",
    "from torchvision import transforms\n",
    "from torchvision.transforms import ToTensor\n",
    "\n",
    "import matplotlib.pyplot as plt"
   ]
  },
  {
   "cell_type": "code",
   "execution_count": 2,
   "metadata": {},
   "outputs": [],
   "source": [
    "# dataset \n",
    "train_data = datasets.FashionMNIST(\n",
    "    root = \"data\",\n",
    "    train=True,\n",
    "    download=True,\n",
    "    transform= ToTensor(),\n",
    "    target_transform=None\n",
    ") \n",
    "test_data = datasets.FashionMNIST(\n",
    "    root = \"data\",\n",
    "    train=False,\n",
    "    download=True,\n",
    "    transform= ToTensor(),\n",
    "    target_transform=None\n",
    ") "
   ]
  },
  {
   "cell_type": "code",
   "execution_count": 3,
   "metadata": {},
   "outputs": [
    {
     "data": {
      "text/plain": [
       "(60000, 10000)"
      ]
     },
     "execution_count": 3,
     "metadata": {},
     "output_type": "execute_result"
    }
   ],
   "source": [
    "len(train_data) , len(test_data)"
   ]
  },
  {
   "cell_type": "code",
   "execution_count": 4,
   "metadata": {},
   "outputs": [
    {
     "data": {
      "text/plain": [
       "(tensor([[[0.0000, 0.0000, 0.0000, 0.0000, 0.0000, 0.0000, 0.0000, 0.0000,\n",
       "           0.0000, 0.0000, 0.0000, 0.0000, 0.0000, 0.0000, 0.0000, 0.0000,\n",
       "           0.0000, 0.0000, 0.0000, 0.0000, 0.0000, 0.0000, 0.0000, 0.0000,\n",
       "           0.0000, 0.0000, 0.0000, 0.0000],\n",
       "          [0.0000, 0.0000, 0.0000, 0.0000, 0.0000, 0.0000, 0.0000, 0.0000,\n",
       "           0.0000, 0.0000, 0.0000, 0.0000, 0.0000, 0.0000, 0.0000, 0.0000,\n",
       "           0.0000, 0.0000, 0.0000, 0.0000, 0.0000, 0.0000, 0.0000, 0.0000,\n",
       "           0.0000, 0.0000, 0.0000, 0.0000],\n",
       "          [0.0000, 0.0000, 0.0000, 0.0000, 0.0000, 0.0000, 0.0000, 0.0000,\n",
       "           0.0000, 0.0000, 0.0000, 0.0000, 0.0000, 0.0000, 0.0000, 0.0000,\n",
       "           0.0000, 0.0000, 0.0000, 0.0000, 0.0000, 0.0000, 0.0000, 0.0000,\n",
       "           0.0000, 0.0000, 0.0000, 0.0000],\n",
       "          [0.0000, 0.0000, 0.0000, 0.0000, 0.0000, 0.0000, 0.0000, 0.0000,\n",
       "           0.0000, 0.0000, 0.0000, 0.0000, 0.0000, 0.0000, 0.0000, 0.0000,\n",
       "           0.0000, 0.0000, 0.0000, 0.0000, 0.0000, 0.0000, 0.0000, 0.0000,\n",
       "           0.0000, 0.0000, 0.0000, 0.0000],\n",
       "          [0.0000, 0.0000, 0.0000, 0.0000, 0.0000, 0.0000, 0.0000, 0.0000,\n",
       "           0.0000, 0.0000, 0.0000, 0.0000, 0.0000, 0.0000, 0.0000, 0.0000,\n",
       "           0.0000, 0.0000, 0.0000, 0.0000, 0.0000, 0.0000, 0.0000, 0.0000,\n",
       "           0.0000, 0.0000, 0.0000, 0.0000],\n",
       "          [0.0000, 0.0000, 0.0000, 0.0000, 0.0000, 0.0000, 0.0000, 0.0000,\n",
       "           0.0000, 0.0000, 0.0000, 0.0000, 0.0000, 0.0000, 0.0000, 0.0000,\n",
       "           0.0000, 0.0000, 0.0000, 0.0000, 0.0000, 0.0000, 0.0000, 0.0000,\n",
       "           0.0000, 0.0000, 0.0000, 0.0000],\n",
       "          [0.0000, 0.0000, 0.0000, 0.0000, 0.0000, 0.0000, 0.0000, 0.0000,\n",
       "           0.0000, 0.0000, 0.0000, 0.0000, 0.0000, 0.0000, 0.0000, 0.0000,\n",
       "           0.0000, 0.0000, 0.0000, 0.0000, 0.0000, 0.0000, 0.0000, 0.0000,\n",
       "           0.0000, 0.0000, 0.0000, 0.0000],\n",
       "          [0.0000, 0.0000, 0.0000, 0.0000, 0.0000, 0.0000, 0.0000, 0.0000,\n",
       "           0.0000, 0.0000, 0.0000, 0.0000, 0.0000, 0.0000, 0.0000, 0.0000,\n",
       "           0.0000, 0.0000, 0.0000, 0.0118, 0.0039, 0.0000, 0.0000, 0.0275,\n",
       "           0.0000, 0.1451, 0.0000, 0.0000],\n",
       "          [0.0000, 0.0000, 0.0000, 0.0000, 0.0000, 0.0000, 0.0000, 0.0000,\n",
       "           0.0000, 0.0000, 0.0000, 0.0000, 0.0000, 0.0039, 0.0078, 0.0000,\n",
       "           0.1059, 0.3294, 0.0431, 0.0000, 0.0000, 0.0000, 0.0000, 0.0000,\n",
       "           0.0000, 0.4667, 0.0000, 0.0000],\n",
       "          [0.0000, 0.0000, 0.0000, 0.0000, 0.0000, 0.0000, 0.0000, 0.0000,\n",
       "           0.0000, 0.0000, 0.0000, 0.0000, 0.0000, 0.0039, 0.0000, 0.0000,\n",
       "           0.3451, 0.5608, 0.4314, 0.0000, 0.0000, 0.0000, 0.0000, 0.0863,\n",
       "           0.3647, 0.4157, 0.0000, 0.0000],\n",
       "          [0.0000, 0.0000, 0.0000, 0.0000, 0.0000, 0.0000, 0.0000, 0.0000,\n",
       "           0.0000, 0.0000, 0.0000, 0.0000, 0.0000, 0.0157, 0.0000, 0.2078,\n",
       "           0.5059, 0.4706, 0.5765, 0.6863, 0.6157, 0.6510, 0.5294, 0.6039,\n",
       "           0.6588, 0.5490, 0.0000, 0.0000],\n",
       "          [0.0000, 0.0000, 0.0000, 0.0000, 0.0000, 0.0000, 0.0000, 0.0000,\n",
       "           0.0000, 0.0000, 0.0000, 0.0000, 0.0078, 0.0000, 0.0431, 0.5373,\n",
       "           0.5098, 0.5020, 0.6275, 0.6902, 0.6235, 0.6549, 0.6980, 0.5843,\n",
       "           0.5922, 0.5647, 0.0000, 0.0000],\n",
       "          [0.0000, 0.0000, 0.0000, 0.0000, 0.0000, 0.0000, 0.0039, 0.0000,\n",
       "           0.0078, 0.0039, 0.0000, 0.0118, 0.0000, 0.0000, 0.4510, 0.4471,\n",
       "           0.4157, 0.5373, 0.6588, 0.6000, 0.6118, 0.6471, 0.6549, 0.5608,\n",
       "           0.6157, 0.6196, 0.0431, 0.0000],\n",
       "          [0.0000, 0.0000, 0.0000, 0.0000, 0.0039, 0.0000, 0.0000, 0.0000,\n",
       "           0.0000, 0.0000, 0.0118, 0.0000, 0.0000, 0.3490, 0.5451, 0.3529,\n",
       "           0.3686, 0.6000, 0.5843, 0.5137, 0.5922, 0.6627, 0.6745, 0.5608,\n",
       "           0.6235, 0.6627, 0.1882, 0.0000],\n",
       "          [0.0000, 0.0000, 0.0000, 0.0000, 0.0000, 0.0000, 0.0078, 0.0157,\n",
       "           0.0039, 0.0000, 0.0000, 0.0000, 0.3843, 0.5333, 0.4314, 0.4275,\n",
       "           0.4314, 0.6353, 0.5294, 0.5647, 0.5843, 0.6235, 0.6549, 0.5647,\n",
       "           0.6196, 0.6627, 0.4667, 0.0000],\n",
       "          [0.0000, 0.0000, 0.0078, 0.0078, 0.0039, 0.0078, 0.0000, 0.0000,\n",
       "           0.0000, 0.0000, 0.1020, 0.4235, 0.4588, 0.3882, 0.4353, 0.4588,\n",
       "           0.5333, 0.6118, 0.5255, 0.6039, 0.6039, 0.6118, 0.6275, 0.5529,\n",
       "           0.5765, 0.6118, 0.6980, 0.0000],\n",
       "          [0.0118, 0.0000, 0.0000, 0.0000, 0.0000, 0.0000, 0.0000, 0.0824,\n",
       "           0.2078, 0.3608, 0.4588, 0.4353, 0.4039, 0.4510, 0.5059, 0.5255,\n",
       "           0.5608, 0.6039, 0.6471, 0.6667, 0.6039, 0.5922, 0.6039, 0.5608,\n",
       "           0.5412, 0.5882, 0.6471, 0.1686],\n",
       "          [0.0000, 0.0000, 0.0902, 0.2118, 0.2549, 0.2980, 0.3333, 0.4627,\n",
       "           0.5020, 0.4824, 0.4353, 0.4431, 0.4627, 0.4980, 0.4902, 0.5451,\n",
       "           0.5216, 0.5333, 0.6275, 0.5490, 0.6078, 0.6314, 0.5647, 0.6078,\n",
       "           0.6745, 0.6314, 0.7412, 0.2431],\n",
       "          [0.0000, 0.2667, 0.3686, 0.3529, 0.4353, 0.4471, 0.4353, 0.4471,\n",
       "           0.4510, 0.4980, 0.5294, 0.5333, 0.5608, 0.4941, 0.4980, 0.5922,\n",
       "           0.6039, 0.5608, 0.5804, 0.4902, 0.6353, 0.6353, 0.5647, 0.5412,\n",
       "           0.6000, 0.6353, 0.7686, 0.2275],\n",
       "          [0.2745, 0.6627, 0.5059, 0.4078, 0.3843, 0.3922, 0.3686, 0.3804,\n",
       "           0.3843, 0.4000, 0.4235, 0.4157, 0.4667, 0.4706, 0.5059, 0.5843,\n",
       "           0.6118, 0.6549, 0.7451, 0.7451, 0.7686, 0.7765, 0.7765, 0.7333,\n",
       "           0.7725, 0.7412, 0.7216, 0.1412],\n",
       "          [0.0627, 0.4941, 0.6706, 0.7373, 0.7373, 0.7216, 0.6706, 0.6000,\n",
       "           0.5294, 0.4706, 0.4941, 0.4980, 0.5725, 0.7255, 0.7647, 0.8196,\n",
       "           0.8157, 1.0000, 0.8196, 0.6941, 0.9608, 0.9882, 0.9843, 0.9843,\n",
       "           0.9686, 0.8627, 0.8078, 0.1922],\n",
       "          [0.0000, 0.0000, 0.0000, 0.0471, 0.2627, 0.4157, 0.6431, 0.7255,\n",
       "           0.7804, 0.8235, 0.8275, 0.8235, 0.8157, 0.7451, 0.5882, 0.3216,\n",
       "           0.0314, 0.0000, 0.0000, 0.0000, 0.6980, 0.8157, 0.7373, 0.6863,\n",
       "           0.6353, 0.6196, 0.5922, 0.0431],\n",
       "          [0.0000, 0.0000, 0.0000, 0.0000, 0.0000, 0.0000, 0.0000, 0.0000,\n",
       "           0.0000, 0.0000, 0.0000, 0.0000, 0.0000, 0.0000, 0.0000, 0.0000,\n",
       "           0.0000, 0.0000, 0.0000, 0.0000, 0.0000, 0.0000, 0.0000, 0.0000,\n",
       "           0.0000, 0.0000, 0.0000, 0.0000],\n",
       "          [0.0000, 0.0000, 0.0000, 0.0000, 0.0000, 0.0000, 0.0000, 0.0000,\n",
       "           0.0000, 0.0000, 0.0000, 0.0000, 0.0000, 0.0000, 0.0000, 0.0000,\n",
       "           0.0000, 0.0000, 0.0000, 0.0000, 0.0000, 0.0000, 0.0000, 0.0000,\n",
       "           0.0000, 0.0000, 0.0000, 0.0000],\n",
       "          [0.0000, 0.0000, 0.0000, 0.0000, 0.0000, 0.0000, 0.0000, 0.0000,\n",
       "           0.0000, 0.0000, 0.0000, 0.0000, 0.0000, 0.0000, 0.0000, 0.0000,\n",
       "           0.0000, 0.0000, 0.0000, 0.0000, 0.0000, 0.0000, 0.0000, 0.0000,\n",
       "           0.0000, 0.0000, 0.0000, 0.0000],\n",
       "          [0.0000, 0.0000, 0.0000, 0.0000, 0.0000, 0.0000, 0.0000, 0.0000,\n",
       "           0.0000, 0.0000, 0.0000, 0.0000, 0.0000, 0.0000, 0.0000, 0.0000,\n",
       "           0.0000, 0.0000, 0.0000, 0.0000, 0.0000, 0.0000, 0.0000, 0.0000,\n",
       "           0.0000, 0.0000, 0.0000, 0.0000],\n",
       "          [0.0000, 0.0000, 0.0000, 0.0000, 0.0000, 0.0000, 0.0000, 0.0000,\n",
       "           0.0000, 0.0000, 0.0000, 0.0000, 0.0000, 0.0000, 0.0000, 0.0000,\n",
       "           0.0000, 0.0000, 0.0000, 0.0000, 0.0000, 0.0000, 0.0000, 0.0000,\n",
       "           0.0000, 0.0000, 0.0000, 0.0000],\n",
       "          [0.0000, 0.0000, 0.0000, 0.0000, 0.0000, 0.0000, 0.0000, 0.0000,\n",
       "           0.0000, 0.0000, 0.0000, 0.0000, 0.0000, 0.0000, 0.0000, 0.0000,\n",
       "           0.0000, 0.0000, 0.0000, 0.0000, 0.0000, 0.0000, 0.0000, 0.0000,\n",
       "           0.0000, 0.0000, 0.0000, 0.0000]]]),\n",
       " 9)"
      ]
     },
     "execution_count": 4,
     "metadata": {},
     "output_type": "execute_result"
    }
   ],
   "source": [
    "image , label = test_data[0]\n",
    "image , label"
   ]
  },
  {
   "cell_type": "code",
   "execution_count": 5,
   "metadata": {},
   "outputs": [
    {
     "data": {
      "text/plain": [
       "['T-shirt/top',\n",
       " 'Trouser',\n",
       " 'Pullover',\n",
       " 'Dress',\n",
       " 'Coat',\n",
       " 'Sandal',\n",
       " 'Shirt',\n",
       " 'Sneaker',\n",
       " 'Bag',\n",
       " 'Ankle boot']"
      ]
     },
     "execution_count": 5,
     "metadata": {},
     "output_type": "execute_result"
    }
   ],
   "source": [
    "class_name = train_data.classes\n",
    "class_name"
   ]
  },
  {
   "cell_type": "code",
   "execution_count": 6,
   "metadata": {},
   "outputs": [
    {
     "data": {
      "text/plain": [
       "{'T-shirt/top': 0,\n",
       " 'Trouser': 1,\n",
       " 'Pullover': 2,\n",
       " 'Dress': 3,\n",
       " 'Coat': 4,\n",
       " 'Sandal': 5,\n",
       " 'Shirt': 6,\n",
       " 'Sneaker': 7,\n",
       " 'Bag': 8,\n",
       " 'Ankle boot': 9}"
      ]
     },
     "execution_count": 6,
     "metadata": {},
     "output_type": "execute_result"
    }
   ],
   "source": [
    "class_to_idx = train_data.class_to_idx\n",
    "class_to_idx"
   ]
  },
  {
   "cell_type": "code",
   "execution_count": 7,
   "metadata": {},
   "outputs": [
    {
     "data": {
      "text/plain": [
       "(torch.Size([1, 28, 28]), 9)"
      ]
     },
     "execution_count": 7,
     "metadata": {},
     "output_type": "execute_result"
    }
   ],
   "source": [
    "image.shape , label"
   ]
  },
  {
   "cell_type": "code",
   "execution_count": 8,
   "metadata": {},
   "outputs": [
    {
     "name": "stdout",
     "output_type": "stream",
     "text": [
      "image shape : torch.Size([1, 28, 28])\n"
     ]
    },
    {
     "data": {
      "text/plain": [
       "(-0.5, 27.5, 27.5, -0.5)"
      ]
     },
     "execution_count": 8,
     "metadata": {},
     "output_type": "execute_result"
    },
    {
     "data": {
      "image/png": "[encoded data removed]",
      "text/plain": [
       "<Figure size 640x480 with 1 Axes>"
      ]
     },
     "metadata": {},
     "output_type": "display_data"
    }
   ],
   "source": [
    "image , label = train_data[0]\n",
    "print(f\"image shape : {image.shape}\")\n",
    "plt.imshow(image.squeeze())\n",
    "plt.title(label)\n",
    "plt.axis(False)"
   ]
  },
  {
   "cell_type": "code",
   "execution_count": 9,
   "metadata": {},
   "outputs": [
    {
     "data": {
      "text/plain": [
       "(-0.5, 27.5, 27.5, -0.5)"
      ]
     },
     "execution_count": 9,
     "metadata": {},
     "output_type": "execute_result"
    },
    {
     "data": {
      "image/png": "[encoded data removed]",
      "text/plain": [
       "<Figure size 640x480 with 1 Axes>"
      ]
     },
     "metadata": {},
     "output_type": "display_data"
    }
   ],
   "source": [
    "plt.imshow(image.squeeze() , cmap=\"gray\")\n",
    "plt.title(class_name[label]);\n",
    "plt.axis(False)"
   ]
  },
  {
   "cell_type": "code",
   "execution_count": 10,
   "metadata": {},
   "outputs": [
    {
     "data": {
      "image/png": "[encoded data removed]",
      "text/plain": [
       "<Figure size 900x900 with 16 Axes>"
      ]
     },
     "metadata": {},
     "output_type": "display_data"
    }
   ],
   "source": [
    "torch.manual_seed = 42 \n",
    "fig = plt.figure(figsize= (9 ,9))\n",
    "rows , cols = 4 , 4 \n",
    "for i in range (1 , rows*cols+1):\n",
    "    random_idx = torch.randint(0 , len(train_data) , size=[1]).item()\n",
    "    image , label = train_data[random_idx]\n",
    "    fig.add_subplot(rows,cols,i)\n",
    "    plt.imshow(image.squeeze(), cmap=\"gray\")\n",
    "    plt.axis(False)\n",
    "    plt.title(class_name[label])"
   ]
  },
  {
   "cell_type": "code",
   "execution_count": 11,
   "metadata": {},
   "outputs": [
    {
     "name": "stdout",
     "output_type": "stream",
     "text": [
      "dataloaders : (<torch.utils.data.dataloader.DataLoader object at 0x00000241102280B0>, <torch.utils.data.dataloader.DataLoader object at 0x000002411014F200>)\n",
      "length of train_dataloader : 1875 batches of 32 ...\n",
      "length of test_dataloader : 313 batches of 32 ...\n"
     ]
    }
   ],
   "source": [
    "#prepare dataloader \n",
    "from torch.utils.data import DataLoader\n",
    "\n",
    "# batch size \n",
    "BATCH_SIZE = 32\n",
    "# BATCHES \n",
    "train_dataloader = DataLoader(dataset=train_data,\n",
    "                              batch_size=BATCH_SIZE,\n",
    "                              shuffle=True)\n",
    "\n",
    "test_dataloader = DataLoader(test_data,\n",
    "                             batch_size=BATCH_SIZE,\n",
    "                             shuffle=False)\n",
    "\n",
    "print(f\"dataloaders : { train_dataloader , test_dataloader }\")\n",
    "print(f\"length of train_dataloader : {len(train_dataloader)} batches of {BATCH_SIZE} ...\")\n",
    "print(f\"length of test_dataloader : {len(test_dataloader)} batches of {BATCH_SIZE} ...\")"
   ]
  },
  {
   "cell_type": "code",
   "execution_count": 12,
   "metadata": {},
   "outputs": [
    {
     "data": {
      "text/plain": [
       "(torch.Size([32, 1, 28, 28]), torch.Size([32]))"
      ]
     },
     "execution_count": 12,
     "metadata": {},
     "output_type": "execute_result"
    }
   ],
   "source": [
    "train_features_batch , train_labels_batch = next(iter(train_dataloader))\n",
    "train_features_batch.shape , train_labels_batch.shape"
   ]
  },
  {
   "cell_type": "code",
   "execution_count": 13,
   "metadata": {},
   "outputs": [
    {
     "name": "stdout",
     "output_type": "stream",
     "text": [
      "image size : torch.Size([1, 28, 28])\n",
      "label : 3 , label size : torch.Size([])\n"
     ]
    },
    {
     "data": {
      "image/png": "[encoded data removed]",
      "text/plain": [
       "<Figure size 640x480 with 1 Axes>"
      ]
     },
     "metadata": {},
     "output_type": "display_data"
    }
   ],
   "source": [
    "#show a sample \n",
    "torch.manual_seed = 42 \n",
    "random_idx = torch.randint(0,len(train_features_batch) , size=[1]).item()\n",
    "image , label = train_features_batch[random_idx] , train_labels_batch[random_idx]\n",
    "plt.imshow(image.squeeze(),cmap=\"gray\")\n",
    "plt.title(class_name[label])\n",
    "plt.axis(False)\n",
    "print(f\"image size : {image.shape}\")\n",
    "print(f\"label : {label} , label size : {label.shape}\")\n"
   ]
  },
  {
   "cell_type": "code",
   "execution_count": 14,
   "metadata": {},
   "outputs": [
    {
     "name": "stdout",
     "output_type": "stream",
     "text": [
      "shape before flatten : torch.Size([1, 28, 28]) --> color channel , hight , width\n",
      "shape after flatten : torch.Size([1, 784])--> color channel , hight*width\n"
     ]
    }
   ],
   "source": [
    "# model 0 : build a basline model\n",
    "# flatten model \n",
    "flatten_model = nn.Flatten()\n",
    "# get a simple sample \n",
    "x= train_features_batch[0]\n",
    "#flatten the sample \n",
    "output = flatten_model(x)\n",
    "#print \n",
    "print(f\"shape before flatten : {x.shape} --> color channel , hight , width\")\n",
    "print(f\"shape after flatten : {output.shape}--> color channel , hight*width\")"
   ]
  },
  {
   "cell_type": "code",
   "execution_count": 15,
   "metadata": {},
   "outputs": [],
   "source": [
    "class fashion(nn.Module):\n",
    "    def __init__(self,\n",
    "                 input_shape: int,\n",
    "                 hiddent_units: int,\n",
    "                 output_shape: int):\n",
    "        super().__init__()\n",
    "        self.layer_stack = nn.Sequential(\n",
    "            nn.Flatten(),\n",
    "            nn.Linear(in_features=input_shape , out_features= hiddent_units),\n",
    "            nn.Linear(in_features=hiddent_units , out_features= output_shape)\n",
    "        )\n",
    "\n",
    "    def forward (self , x):\n",
    "        return self.layer_stack(x)\n",
    "        "
   ]
  },
  {
   "cell_type": "code",
   "execution_count": 16,
   "metadata": {},
   "outputs": [
    {
     "data": {
      "text/plain": [
       "fashion(\n",
       "  (layer_stack): Sequential(\n",
       "    (0): Flatten(start_dim=1, end_dim=-1)\n",
       "    (1): Linear(in_features=784, out_features=10, bias=True)\n",
       "    (2): Linear(in_features=10, out_features=10, bias=True)\n",
       "  )\n",
       ")"
      ]
     },
     "execution_count": 16,
     "metadata": {},
     "output_type": "execute_result"
    }
   ],
   "source": [
    "torch.manual_seed = 42 \n",
    "model_0 = fashion(input_shape=784 , \n",
    "                  hiddent_units= 10,\n",
    "                  output_shape=len(class_name)\n",
    ").to(\"cpu\")\n",
    "model_0"
   ]
  },
  {
   "cell_type": "code",
   "execution_count": 17,
   "metadata": {},
   "outputs": [
    {
     "data": {
      "text/plain": [
       "tensor([[-0.0872,  0.1167,  0.2472, -0.3240, -0.1202,  0.2155,  0.0548, -0.2136,\n",
       "          0.1358, -0.0552]], grad_fn=<AddmmBackward0>)"
      ]
     },
     "execution_count": 17,
     "metadata": {},
     "output_type": "execute_result"
    }
   ],
   "source": [
    "dummy_x = torch.rand([1,1,28,28])\n",
    "model_0(dummy_x)"
   ]
  },
  {
   "cell_type": "code",
   "execution_count": 18,
   "metadata": {},
   "outputs": [
    {
     "name": "stdout",
     "output_type": "stream",
     "text": [
      "downloaded\n"
     ]
    }
   ],
   "source": [
    "# setup loss , optimizer \n",
    "import requests\n",
    "from pathlib import Path\n",
    "\n",
    "# download helper function from pytorch repo\n",
    "if Path(\"helper_functions.py\").is_file():\n",
    "    print(\"downloaded\")\n",
    "else:\n",
    "    print(\"downloading the shit ...\")\n",
    "    request = requests.get(\"https://raw.githubusercontent.com/mrdbourke/pytorch-deep-learning/refs/heads/main/helper_functions.py\")\n",
    "    with open(\"helper_functions.py\" , \"wb\") as f : \n",
    "        f.write(request.content)\n"
   ]
  },
  {
   "cell_type": "code",
   "execution_count": 19,
   "metadata": {},
   "outputs": [],
   "source": [
    "# import accuracy metric \n",
    "from helper_functions import accuracy_fn\n",
    "# setup lost function and optimizer \n",
    "loss_fn = nn.CrossEntropyLoss()\n",
    "optimizer = torch.optim.SGD(params= model_0.parameters() ,\n",
    "                             lr=0.1)"
   ]
  },
  {
   "cell_type": "code",
   "execution_count": 20,
   "metadata": {},
   "outputs": [],
   "source": [
    "# time our experiments\n",
    "from timeit import default_timer as timer \n",
    "def print_time(start:float,\n",
    "               end:float,\n",
    "               device: torch.device = None):\n",
    "    total_time = end - start\n",
    "    print(f\"train time on {device} : {total_time:.3f} seconds\")\n",
    "    return total_time"
   ]
  },
  {
   "cell_type": "code",
   "execution_count": 21,
   "metadata": {},
   "outputs": [
    {
     "name": "stdout",
     "output_type": "stream",
     "text": [
      "train time on cpu : 0.000 seconds\n"
     ]
    },
    {
     "data": {
      "text/plain": [
       "3.509999987727497e-05"
      ]
     },
     "execution_count": 21,
     "metadata": {},
     "output_type": "execute_result"
    }
   ],
   "source": [
    "start_time = timer()\n",
    "end_time = timer()\n",
    "print_time(start= start_time ,end = end_time , device=\"cpu\")"
   ]
  },
  {
   "cell_type": "markdown",
   "metadata": {},
   "source": [
    "1. loop through epoches \n",
    "2. loop through training batches \n",
    "3. loop through testing batches \n",
    "4. ptint whats happening \n",
    "5. time it all !"
   ]
  },
  {
   "cell_type": "code",
   "execution_count": 22,
   "metadata": {},
   "outputs": [
    {
     "data": {
      "application/vnd.jupyter.widget-view+json": {
       "model_id": "b8a2cecf33ec4664b65fa756b382773e",
       "version_major": 2,
       "version_minor": 0
      },
      "text/plain": [
       "  0%|          | 0/3 [00:00<?, ?it/s]"
      ]
     },
     "metadata": {},
     "output_type": "display_data"
    },
    {
     "name": "stdout",
     "output_type": "stream",
     "text": [
      "epoch : 0 \n",
      "---------\n",
      "looked at 0/60000 samples.\n",
      "looked at 12800/60000 samples.\n",
      "looked at 25600/60000 samples.\n",
      "looked at 38400/60000 samples.\n",
      "looked at 51200/60000 samples.\n",
      "\n",
      " Train Loss : 0.5886 | test_loss : 0.5886 | test_acc : 81.6993\n",
      "epoch : 1 \n",
      "---------\n",
      "looked at 0/60000 samples.\n",
      "looked at 12800/60000 samples.\n",
      "looked at 25600/60000 samples.\n",
      "looked at 38400/60000 samples.\n",
      "looked at 51200/60000 samples.\n",
      "\n",
      " Train Loss : 0.4782 | test_loss : 0.4782 | test_acc : 81.0803\n",
      "epoch : 2 \n",
      "---------\n",
      "looked at 0/60000 samples.\n",
      "looked at 12800/60000 samples.\n",
      "looked at 25600/60000 samples.\n",
      "looked at 38400/60000 samples.\n",
      "looked at 51200/60000 samples.\n",
      "\n",
      " Train Loss : 0.4563 | test_loss : 0.4563 | test_acc : 82.0088\n",
      "train time on cpu : 48.881 seconds\n"
     ]
    }
   ],
   "source": [
    "#import tqdm for prograss bar \n",
    "from tqdm.auto import tqdm\n",
    "# set timer \n",
    "torch.manual_seed = 42\n",
    "train_time_starter_on_cpu = timer()\n",
    "# epoches \n",
    "epoches = 3\n",
    "# create training loop \n",
    "for epoch in tqdm(range(epoches)):\n",
    "    print(f\"epoch : {epoch} \\n---------\")\n",
    "    ### training \n",
    "    train_loss = 0 \n",
    "    # add a loop to loop training batches \n",
    "    for batch , (x,y) in enumerate(train_dataloader):\n",
    "        model_0.train()\n",
    "        #forward pass \n",
    "        y_pred = model_0(x)\n",
    "        #loss\n",
    "        loss = loss_fn(y_pred,y)\n",
    "        train_loss += loss\n",
    "        #optimizer \n",
    "        optimizer.zero_grad()\n",
    "        #loss backward \n",
    "        loss.backward()\n",
    "        # optimizer step \n",
    "        optimizer.step()\n",
    "\n",
    "        # print out whats happeining \n",
    "        if batch % 400 ==0:\n",
    "            print(f\"looked at {batch*len(x)}/{len(train_dataloader.dataset)} samples.\")\n",
    "\n",
    "# divide totall train loss by length of train dataloader\n",
    "    train_loss/=len(train_dataloader)\n",
    "### testing \n",
    "    test_loss , test_acc = 0 , 0 \n",
    "    model_0.eval()\n",
    "    with torch.inference_mode():\n",
    "        for x_test,y_test in test_dataloader:\n",
    "            # forward pass\n",
    "            test_pred = model_0(x_test)\n",
    "            # loss \n",
    "            test_loss += loss_fn(test_pred , y_test)\n",
    "            #accuracy \n",
    "            test_acc += accuracy_fn(y_true=y_test , y_pred=test_pred.argmax(dim=1))\n",
    "\n",
    "        # calculate test loss average \n",
    "        test_loss /= len(test_dataloader)\n",
    "        # calculate test acc average \n",
    "        test_acc /= len(test_dataloader)\n",
    "\n",
    "    print(f\"\\n Train Loss : {train_loss:.4f} | test_loss : {train_loss:.4f} | test_acc : {test_acc:.4f}\")\n",
    "\n",
    "# calculate training time \n",
    "train_time_end_on_cpu = timer()\n",
    "total_train_time_model_0 = print_time(start=train_time_starter_on_cpu,\n",
    "                                      end=train_time_end_on_cpu,\n",
    "                                      device= str(next(model_0.parameters()).device)\n",
    "                                      )\n",
    "\n",
    "\n"
   ]
  },
  {
   "cell_type": "markdown",
   "metadata": {},
   "source": [
    "### make predictions and get model_0 results "
   ]
  },
  {
   "cell_type": "code",
   "execution_count": 23,
   "metadata": {},
   "outputs": [
    {
     "data": {
      "text/plain": [
       "'cuda'"
      ]
     },
     "execution_count": 23,
     "metadata": {},
     "output_type": "execute_result"
    }
   ],
   "source": [
    "#setup device-agnostic code \n",
    "device = \"cuda\" if torch.cuda.is_available() else \"cpu\"\n",
    "device"
   ]
  },
  {
   "cell_type": "code",
   "execution_count": 45,
   "metadata": {},
   "outputs": [],
   "source": [
    "import torch.utils\n",
    "import torch.utils.data\n",
    "\n",
    "\n",
    "torch.manual_seed = 42\n",
    "def eval_model(model: torch.nn.Module,\n",
    "               data_loader: torch.utils.data.DataLoader,\n",
    "               loss_fn : torch.nn.Module,\n",
    "               accuracy_fn):\n",
    "    loss , acc = 0 ,0\n",
    "    model.eval()\n",
    "    with torch.inference_mode():\n",
    "        for x , y in tqdm(data_loader):\n",
    "            x , y = x.to(device) , y.to(device)\n",
    "            y_pred = model(x)\n",
    "            loss += loss_fn(y_pred,y)\n",
    "            acc += accuracy_fn(y_true=y,\n",
    "                               y_pred=y_pred.argmax(dim=1))\n",
    "            \n",
    "        #scale loss and acc \n",
    "        loss/=len(data_loader)\n",
    "        acc/=len(data_loader)\n",
    "    \n",
    "    return {\"model_name\" : model.__class__.__name__ ,\n",
    "            \"model_loss\" : loss.item(),\n",
    "            \"model_acc\"  : acc}\n",
    "\n"
   ]
  },
  {
   "cell_type": "code",
   "execution_count": 27,
   "metadata": {},
   "outputs": [
    {
     "data": {
      "application/vnd.jupyter.widget-view+json": {
       "model_id": "62d5de635ea042d29e14026128325867",
       "version_major": 2,
       "version_minor": 0
      },
      "text/plain": [
       "  0%|          | 0/313 [00:00<?, ?it/s]"
      ]
     },
     "metadata": {},
     "output_type": "display_data"
    },
    {
     "data": {
      "text/plain": [
       "{'model_name': 'fashion',\n",
       " 'model_loss': 0.490775465965271,\n",
       " 'model_acc': 82.00878594249201}"
      ]
     },
     "execution_count": 27,
     "metadata": {},
     "output_type": "execute_result"
    }
   ],
   "source": [
    "\n",
    "# calculate model_0 results test dataset\n",
    "model_0_results = eval_model(model=model_0,\n",
    "                             data_loader=test_dataloader,\n",
    "                             loss_fn=loss_fn,\n",
    "                             accuracy_fn=accuracy_fn)\n",
    "\n",
    "model_0_results"
   ]
  },
  {
   "cell_type": "code",
   "execution_count": 28,
   "metadata": {},
   "outputs": [
    {
     "name": "stdout",
     "output_type": "stream",
     "text": [
      "Thu Oct 10 16:33:50 2024       \n",
      "+-----------------------------------------------------------------------------------------+\n",
      "| NVIDIA-SMI 555.94                 Driver Version: 555.94         CUDA Version: 12.5     |\n",
      "|-----------------------------------------+------------------------+----------------------+\n",
      "| GPU  Name                  Driver-Model | Bus-Id          Disp.A | Volatile Uncorr. ECC |\n",
      "| Fan  Temp   Perf          Pwr:Usage/Cap |           Memory-Usage | GPU-Util  Compute M. |\n",
      "|                                         |                        |               MIG M. |\n",
      "|=========================================+========================+======================|\n",
      "|   0  NVIDIA GeForce RTX 4070 ...  WDDM  |   00000000:01:00.0  On |                  N/A |\n",
      "| N/A   41C    P8              4W /   45W |     708MiB /   8188MiB |      5%      Default |\n",
      "|                                         |                        |                  N/A |\n",
      "+-----------------------------------------+------------------------+----------------------+\n",
      "                                                                                         \n",
      "+-----------------------------------------------------------------------------------------+\n",
      "| Processes:                                                                              |\n",
      "|  GPU   GI   CI        PID   Type   Process name                              GPU Memory |\n",
      "|        ID   ID                                                               Usage      |\n",
      "|=========================================================================================|\n",
      "|    0   N/A  N/A      3992    C+G   ...siveControlPanel\\SystemSettings.exe      N/A      |\n",
      "|    0   N/A  N/A      4908    C+G   ....5635.0_x64__8j3eq9eme6ctt\\IGCC.exe      N/A      |\n",
      "|    0   N/A  N/A      6340    C+G   C:\\Windows\\explorer.exe                     N/A      |\n",
      "|    0   N/A  N/A      8516    C+G   C:\\KMPlayer\\KMPlayer.exe                    N/A      |\n",
      "|    0   N/A  N/A     11484    C+G   ...nt.CBS_cw5n1h2txyewy\\SearchHost.exe      N/A      |\n",
      "|    0   N/A  N/A     11552    C+G   ...2txyewy\\StartMenuExperienceHost.exe      N/A      |\n",
      "|    0   N/A  N/A     11608      C   ...\\anaconda3\\envs\\MLstudio\\python.exe      N/A      |\n",
      "|    0   N/A  N/A     13228    C+G   ...5n1h2txyewy\\ShellExperienceHost.exe      N/A      |\n",
      "|    0   N/A  N/A     14688    C+G   ...App\\OmenCommandCenterBackground.exe      N/A      |\n",
      "|    0   N/A  N/A     15144    C+G   ...tudio-ui\\LightStudio-background.exe      N/A      |\n",
      "|    0   N/A  N/A     15264    C+G   ...oogle\\Chrome\\Application\\chrome.exe      N/A      |\n",
      "|    0   N/A  N/A     15512    C+G   ...x86)\\Internet Explorer\\iexplore.exe      N/A      |\n",
      "|    0   N/A  N/A     15936    C+G   ...Programs\\Microsoft VS Code\\Code.exe      N/A      |\n",
      "|    0   N/A  N/A     16336    C+G   ...cal\\Microsoft\\OneDrive\\OneDrive.exe      N/A      |\n",
      "|    0   N/A  N/A     16516    C+G   ...95.0_x64__v10z8vjag6ke6\\HP.myHP.exe      N/A      |\n",
      "|    0   N/A  N/A     18168    C+G   ...crosoft\\Edge\\Application\\msedge.exe      N/A      |\n",
      "+-----------------------------------------------------------------------------------------+\n"
     ]
    }
   ],
   "source": [
    "!nvidia-smi"
   ]
  },
  {
   "cell_type": "code",
   "execution_count": 29,
   "metadata": {},
   "outputs": [
    {
     "data": {
      "text/plain": [
       "True"
      ]
     },
     "execution_count": 29,
     "metadata": {},
     "output_type": "execute_result"
    }
   ],
   "source": [
    "torch.cuda.is_available()"
   ]
  },
  {
   "cell_type": "code",
   "execution_count": 30,
   "metadata": {},
   "outputs": [
    {
     "data": {
      "text/plain": [
       "'cuda'"
      ]
     },
     "execution_count": 30,
     "metadata": {},
     "output_type": "execute_result"
    }
   ],
   "source": [
    "#setup device-agnostic code \n",
    "device = \"cuda\" if torch.cuda.is_available() else \"cpu\"\n",
    "device"
   ]
  },
  {
   "cell_type": "markdown",
   "metadata": {},
   "source": [
    "### Build with non-linearity "
   ]
  },
  {
   "cell_type": "code",
   "execution_count": 31,
   "metadata": {},
   "outputs": [],
   "source": [
    "class fashionV1(nn.Module):\n",
    "    def __init__(self,\n",
    "                 input_shape: int,\n",
    "                 hidden_units: int,\n",
    "                 output_shape: int):\n",
    "        super().__init__()\n",
    "        self.layer_stack = nn.Sequential(\n",
    "            nn.Flatten(),\n",
    "            nn.Linear(in_features=input_shape , out_features= hidden_units),\n",
    "            nn.ReLU(),\n",
    "            nn.Linear(in_features=hidden_units , out_features= output_shape),\n",
    "            nn.ReLU()\n",
    "        )\n",
    "\n",
    "    def forward (self , x: torch.Tensor):\n",
    "        return self.layer_stack(x)"
   ]
  },
  {
   "cell_type": "code",
   "execution_count": 32,
   "metadata": {},
   "outputs": [
    {
     "data": {
      "text/plain": [
       "device(type='cuda', index=0)"
      ]
     },
     "execution_count": 32,
     "metadata": {},
     "output_type": "execute_result"
    }
   ],
   "source": [
    "# run on GPU\n",
    "torch.manual_seed=42\n",
    "model_1 = fashionV1(input_shape=784,\n",
    "                    hidden_units=10,\n",
    "                    output_shape=len(class_name)).to(device)\n",
    "\n",
    "next(model_1.parameters()).device"
   ]
  },
  {
   "cell_type": "code",
   "execution_count": 33,
   "metadata": {},
   "outputs": [],
   "source": [
    "# import accuracy metric \n",
    "from helper_functions import accuracy_fn\n",
    "# setup lost function and optimizer \n",
    "loss_fn = nn.CrossEntropyLoss()\n",
    "optimizer = torch.optim.SGD(params= model_0.parameters() ,\n",
    "                             lr=0.1)"
   ]
  },
  {
   "cell_type": "markdown",
   "metadata": {},
   "source": [
    "### functionizing our training and testing loop "
   ]
  },
  {
   "cell_type": "code",
   "execution_count": 34,
   "metadata": {},
   "outputs": [],
   "source": [
    "def train_step(model:torch.nn.Module,\n",
    "               data_loader : torch.utils.data.DataLoader,\n",
    "               loss_fn: torch.nn.Module,\n",
    "               optimizer:torch.optim.Optimizer,\n",
    "               accuracy_fn,\n",
    "               device: torch.device = device):\n",
    "    \n",
    "    train_loss , train_acc = 0 , 0\n",
    "\n",
    "    model.train()\n",
    "    # add a loop to loop training batches \n",
    "    for batch , (x,y) in enumerate(data_loader):\n",
    "        x , y = x.to(device) , y.to(device)\n",
    "        #forward pass \n",
    "        y_pred = model(x)\n",
    "        #loss\n",
    "        loss = loss_fn(y_pred,y)\n",
    "        train_loss += loss\n",
    "        #acc\n",
    "        train_acc += accuracy_fn(y_true=y,\n",
    "                                 y_pred=y_pred.argmax(dim=1))\n",
    "\n",
    "        #optimizer \n",
    "        optimizer.zero_grad()\n",
    "        #loss backward \n",
    "        loss.backward()\n",
    "        # optimizer step \n",
    "        optimizer.step()\n",
    "\n",
    "    # divide totall train loss by length of train dataloader\n",
    "    train_loss/=len(data_loader)\n",
    "    train_acc/=len(data_loader)\n",
    "    # print out whats happeining \n",
    "    print(f\"train_loss : {train_loss:.5f} | train_acc : {train_acc:.2f}%\")"
   ]
  },
  {
   "cell_type": "code",
   "execution_count": 35,
   "metadata": {},
   "outputs": [],
   "source": [
    "def test_step(model:torch.nn.Module,\n",
    "               data_loader : torch.utils.data.DataLoader,\n",
    "               loss_fn: torch.nn.Module,\n",
    "               accuracy_fn,\n",
    "               device: torch.device = device):\n",
    "    test_loss , test_acc = 0,0\n",
    "\n",
    "    model.eval()\n",
    "    with torch.inference_mode():\n",
    "        for x , y in (data_loader):\n",
    "            x , y = x.to(device) , y.to(device)\n",
    "\n",
    "            test_pred = model(x)\n",
    "            test_loss += loss_fn(test_pred,y)\n",
    "            test_acc += accuracy_fn(y_true=y,\n",
    "                               y_pred=test_pred.argmax(dim=1))\n",
    "        \n",
    "        #adjust metrics and print out\n",
    "        #scale loss and acc \n",
    "        test_loss/=len(data_loader)\n",
    "        test_acc/=len(data_loader)\n",
    "        print(f\"test loss: {test_loss:.5f} | test_acc : {test_acc:.2f}% \\n\")\n"
   ]
  },
  {
   "cell_type": "code",
   "execution_count": 36,
   "metadata": {},
   "outputs": [
    {
     "data": {
      "application/vnd.jupyter.widget-view+json": {
       "model_id": "5b16f6bb11324467bb04e17115492502",
       "version_major": 2,
       "version_minor": 0
      },
      "text/plain": [
       "  0%|          | 0/3 [00:00<?, ?it/s]"
      ]
     },
     "metadata": {},
     "output_type": "display_data"
    },
    {
     "name": "stdout",
     "output_type": "stream",
     "text": [
      "epoch : 0 \n",
      "---------\n",
      "train_loss : 2.30568 | train_acc : 9.83%\n",
      "test loss: 2.30535 | test_acc : 10.38% \n",
      "\n",
      "epoch : 1 \n",
      "---------\n",
      "train_loss : 2.30568 | train_acc : 9.83%\n",
      "test loss: 2.30535 | test_acc : 10.38% \n",
      "\n",
      "epoch : 2 \n",
      "---------\n",
      "train_loss : 2.30568 | train_acc : 9.83%\n",
      "test loss: 2.30535 | test_acc : 10.38% \n",
      "\n",
      "train time on cuda : 30.728 seconds\n"
     ]
    }
   ],
   "source": [
    "torch.manual_seed = 42\n",
    "train_time_starter_on_gpu = timer()\n",
    "# epoches \n",
    "epoches = 3\n",
    "# create training loop \n",
    "for epoch in tqdm(range(epoches)):\n",
    "    print(f\"epoch : {epoch} \\n---------\")\n",
    "    train_step(model=model_1,\n",
    "               data_loader=train_dataloader,\n",
    "               loss_fn=loss_fn,\n",
    "               optimizer=optimizer,\n",
    "               accuracy_fn=accuracy_fn,\n",
    "               device=device)\n",
    "    test_step(model=model_1,\n",
    "              data_loader=test_dataloader,\n",
    "              loss_fn=loss_fn,\n",
    "              accuracy_fn=accuracy_fn,\n",
    "              device=device)\n",
    "    \n",
    "train_time_end_on_gpu=timer()\n",
    "total_train_time_model_1=print_time(start=train_time_starter_on_gpu , \n",
    "                                    end=train_time_end_on_gpu,\n",
    "                                    device=device)"
   ]
  },
  {
   "cell_type": "markdown",
   "metadata": {},
   "source": [
    "### model 2 : CNN"
   ]
  },
  {
   "cell_type": "code",
   "execution_count": 37,
   "metadata": {},
   "outputs": [],
   "source": [
    "class CNN(nn.Module):\n",
    "    def __init__(self ,\n",
    "                 input_shape:int,\n",
    "                 output_shape:int,\n",
    "                 hidden_units:int,\n",
    "                 ):\n",
    "        super().__init__()\n",
    "        self.conv_block1 = nn.Sequential(\n",
    "            nn.Conv2d(in_channels=input_shape , \n",
    "                      out_channels= hidden_units,\n",
    "                      kernel_size=3,\n",
    "                      stride=1,\n",
    "                      padding=1),\n",
    "            nn.ReLU(),\n",
    "            nn.Conv2d(in_channels=hidden_units , \n",
    "                      out_channels= hidden_units,\n",
    "                      kernel_size=3,\n",
    "                      stride=1,\n",
    "                      padding=1),\n",
    "            nn.ReLU(),\n",
    "            nn.MaxPool2d(kernel_size=2)\n",
    "        )\n",
    "        self.conv_block2 = nn.Sequential(\n",
    "            nn.Conv2d(in_channels=hidden_units , \n",
    "                      out_channels= hidden_units,\n",
    "                      kernel_size=3,\n",
    "                      stride=1,\n",
    "                      padding=1),\n",
    "            nn.ReLU(),\n",
    "            nn.Conv2d(in_channels=hidden_units , \n",
    "                      out_channels= hidden_units,\n",
    "                      kernel_size=3,\n",
    "                      stride=1,\n",
    "                      padding=1),\n",
    "            nn.ReLU(),\n",
    "            nn.MaxPool2d(kernel_size=2)\n",
    "        )\n",
    "        self.classifier = nn.Sequential(\n",
    "            nn.Flatten(),\n",
    "            nn.Linear(in_features = hidden_units*7*7 , out_features=output_shape)\n",
    "        )\n",
    "\n",
    "    def forward(self , x):\n",
    "        x= self.conv_block1(x)\n",
    "        # print(x.shape)\n",
    "        x= self.conv_block2(x)\n",
    "        # print(x.shape)\n",
    "        x= self.classifier(x)\n",
    "        return x\n"
   ]
  },
  {
   "cell_type": "code",
   "execution_count": 38,
   "metadata": {},
   "outputs": [],
   "source": [
    "torch.manual_seed=42\n",
    "model_2 = CNN(input_shape=1,\n",
    "              hidden_units=10,\n",
    "              output_shape=len(class_name)).to(device)"
   ]
  },
  {
   "cell_type": "code",
   "execution_count": 39,
   "metadata": {},
   "outputs": [
    {
     "name": "stdout",
     "output_type": "stream",
     "text": [
      "image shape : torch.Size([32, 3, 64, 64])\n",
      "single image shape: torch.Size([3, 64, 64])\n",
      "test image : \n",
      " : tensor([[[ 9.9299e-01, -9.6661e-01,  2.2977e+00,  ..., -1.5171e+00,\n",
      "           1.2600e+00,  1.3528e-02],\n",
      "         [ 6.7203e-02,  2.1775e+00, -3.5404e-01,  ..., -3.0839e-01,\n",
      "          -3.0701e-01, -1.2501e-01],\n",
      "         [ 5.0975e-01, -1.6298e+00,  1.3556e+00,  ...,  6.7426e-01,\n",
      "           5.5722e-01,  1.3121e+00],\n",
      "         ...,\n",
      "         [ 1.6604e+00, -1.9398e+00, -3.7692e-02,  ...,  1.2396e+00,\n",
      "           5.8248e-01, -1.2249e+00],\n",
      "         [-4.2869e-01,  6.7139e-01, -1.1143e+00,  ..., -1.4924e-01,\n",
      "           3.6827e-01, -5.6406e-01],\n",
      "         [-2.4740e-01, -5.9667e-02, -1.6651e+00,  ..., -9.9892e-01,\n",
      "          -1.0316e+00, -2.7146e-01]],\n",
      "\n",
      "        [[-1.1824e-01,  1.0237e-01, -1.9833e-01,  ...,  1.7453e-01,\n",
      "           1.5625e+00,  4.5234e-01],\n",
      "         [ 2.0793e-01,  4.3116e-01, -3.0855e-01,  ..., -2.0168e-01,\n",
      "           9.1991e-01,  1.8263e-03],\n",
      "         [ 9.5662e-02,  7.1139e-01, -1.0185e+00,  ...,  4.8349e-01,\n",
      "           3.3381e-01, -5.1961e-01],\n",
      "         ...,\n",
      "         [ 1.4273e+00, -9.3299e-01, -1.9509e+00,  ..., -1.9068e-01,\n",
      "          -1.2031e+00,  6.5732e-01],\n",
      "         [-1.0162e-01, -1.8657e-01, -2.4075e-01,  ...,  2.6482e-01,\n",
      "          -3.1617e-01,  9.3704e-01],\n",
      "         [ 4.2156e-02, -2.4888e-02, -5.5153e-01,  ...,  1.4445e+00,\n",
      "          -5.8432e-01, -1.2803e+00]],\n",
      "\n",
      "        [[ 3.6391e-01,  2.1244e+00, -4.0365e-01,  ..., -9.1774e-01,\n",
      "          -4.6233e-01, -7.3644e-01],\n",
      "         [-3.6577e-01,  8.6850e-01, -9.0649e-01,  ...,  1.1742e-01,\n",
      "           1.2673e+00, -5.2709e-01],\n",
      "         [-2.0954e+00,  1.0500e+00, -2.2825e-01,  ..., -1.3864e+00,\n",
      "           9.4357e-01, -6.3479e-01],\n",
      "         ...,\n",
      "         [ 2.1934e+00, -1.3747e+00,  5.1532e-01,  ...,  5.1252e-01,\n",
      "           1.5576e+00, -2.2990e+00],\n",
      "         [-7.7095e-02, -9.5684e-01, -1.0439e+00,  ...,  3.3685e-01,\n",
      "           4.8596e-01,  1.5590e+00],\n",
      "         [ 1.0136e+00,  5.5742e-01, -2.5984e+00,  ...,  2.3210e-01,\n",
      "           1.0514e-01, -3.1545e-02]]])\n"
     ]
    }
   ],
   "source": [
    "# test sample \n",
    "torch.manual_seed=42\n",
    "images = torch.randn(size=(32,3,64,64))\n",
    "test_image = images[0]\n",
    "print(f\"image shape : {images.shape}\")\n",
    "print(f\"single image shape: {test_image.shape}\")\n",
    "print(f\"test image : \\n : {test_image}\")"
   ]
  },
  {
   "cell_type": "code",
   "execution_count": 40,
   "metadata": {},
   "outputs": [
    {
     "data": {
      "text/plain": [
       "torch.Size([10, 64, 64])"
      ]
     },
     "execution_count": 40,
     "metadata": {},
     "output_type": "execute_result"
    }
   ],
   "source": [
    "torch.manual_seed = 42\n",
    "conv_layer = nn.Conv2d(in_channels=3,\n",
    "                       out_channels=10,\n",
    "                       kernel_size=(3,3),\n",
    "                       stride=1,\n",
    "                       padding=1\n",
    "                       )\n",
    "# pass the data through a conv layer \n",
    "conv_output = conv_layer(test_image)\n",
    "conv_output.shape"
   ]
  },
  {
   "cell_type": "markdown",
   "metadata": {},
   "source": [
    "lets do the real shit "
   ]
  },
  {
   "cell_type": "code",
   "execution_count": 41,
   "metadata": {},
   "outputs": [
    {
     "data": {
      "text/plain": [
       "tensor([[ 0.0287, -0.0110,  0.0016, -0.0491,  0.0740,  0.0206,  0.0521,  0.0136,\n",
       "          0.0641, -0.0165]], device='cuda:0', grad_fn=<AddmmBackward0>)"
      ]
     },
     "execution_count": 41,
     "metadata": {},
     "output_type": "execute_result"
    }
   ],
   "source": [
    "rand_image_tensor = torch.randn(size=(1,28,28)).to(device)\n",
    "model_2(rand_image_tensor.unsqueeze(0).to(device))"
   ]
  },
  {
   "cell_type": "code",
   "execution_count": 42,
   "metadata": {},
   "outputs": [],
   "source": [
    "#setup loss , optimizer , eval metric\n",
    "from helper_functions import accuracy_fn\n",
    "optimizer = torch.optim.SGD(params=model_2.parameters(),\n",
    "                            lr=0.1)"
   ]
  },
  {
   "cell_type": "code",
   "execution_count": 43,
   "metadata": {},
   "outputs": [
    {
     "data": {
      "application/vnd.jupyter.widget-view+json": {
       "model_id": "0cd63f48846a46388b2fedeb817c9c81",
       "version_major": 2,
       "version_minor": 0
      },
      "text/plain": [
       "  0%|          | 0/3 [00:00<?, ?it/s]"
      ]
     },
     "metadata": {},
     "output_type": "display_data"
    },
    {
     "name": "stdout",
     "output_type": "stream",
     "text": [
      "epoch : 0\n",
      "----------\n",
      "train_loss : 0.63031 | train_acc : 76.90%\n",
      "test loss: 0.40995 | test_acc : 84.95% \n",
      "\n",
      "epoch : 1\n",
      "----------\n",
      "train_loss : 0.37076 | train_acc : 86.49%\n",
      "test loss: 0.37908 | test_acc : 86.26% \n",
      "\n",
      "epoch : 2\n",
      "----------\n",
      "train_loss : 0.32763 | train_acc : 88.04%\n",
      "test loss: 0.36846 | test_acc : 85.79% \n",
      "\n",
      "train time on cuda : 38.125 seconds\n"
     ]
    }
   ],
   "source": [
    "### training and testing loop\n",
    "torch.manual_seed = 42 \n",
    "torch.cuda.manual_seed=42\n",
    "#measure time\n",
    "from timeit import default_timer as timer \n",
    "train_time_start_model_2 = timer()\n",
    "#train and test model \n",
    "epoches = 3 \n",
    "for epoch in tqdm(range(epoches)):\n",
    "    print(f\"epoch : {epoch}\\n----------\")\n",
    "    train_step(model= model_2,\n",
    "               data_loader=train_dataloader,\n",
    "               loss_fn=loss_fn,\n",
    "               optimizer=optimizer,\n",
    "               accuracy_fn=accuracy_fn,\n",
    "               device=device)\n",
    "    test_step(model_2,\n",
    "              data_loader=test_dataloader,\n",
    "              loss_fn=loss_fn,\n",
    "              accuracy_fn=accuracy_fn,\n",
    "              device=device)\n",
    "\n",
    "train_time_end_model_2= timer()\n",
    "total_train_time_model_2 = print_time(start=train_time_start_model_2 , \n",
    "                                      end= train_time_end_model_2,\n",
    "                                      device=device)\n",
    "\n"
   ]
  },
  {
   "cell_type": "code",
   "execution_count": 46,
   "metadata": {},
   "outputs": [
    {
     "data": {
      "application/vnd.jupyter.widget-view+json": {
       "model_id": "6e6ccd83c3464b469f322d383fb907d9",
       "version_major": 2,
       "version_minor": 0
      },
      "text/plain": [
       "  0%|          | 0/313 [00:00<?, ?it/s]"
      ]
     },
     "metadata": {},
     "output_type": "display_data"
    },
    {
     "data": {
      "text/plain": [
       "{'model_name': 'CNN',\n",
       " 'model_loss': 0.36846333742141724,\n",
       " 'model_acc': 85.79273162939297}"
      ]
     },
     "execution_count": 46,
     "metadata": {},
     "output_type": "execute_result"
    }
   ],
   "source": [
    "model_2_results = eval_model(model=model_2,\n",
    "                             data_loader=test_dataloader,\n",
    "                             loss_fn=loss_fn,\n",
    "                             accuracy_fn=accuracy_fn)\n",
    "model_2_results"
   ]
  },
  {
   "cell_type": "code",
   "execution_count": 47,
   "metadata": {},
   "outputs": [
    {
     "data": {
      "text/html": [
       "<div>\n",
       "<style scoped>\n",
       "    .dataframe tbody tr th:only-of-type {\n",
       "        vertical-align: middle;\n",
       "    }\n",
       "\n",
       "    .dataframe tbody tr th {\n",
       "        vertical-align: top;\n",
       "    }\n",
       "\n",
       "    .dataframe thead th {\n",
       "        text-align: right;\n",
       "    }\n",
       "</style>\n",
       "<table border=\"1\" class=\"dataframe\">\n",
       "  <thead>\n",
       "    <tr style=\"text-align: right;\">\n",
       "      <th></th>\n",
       "      <th>model_name</th>\n",
       "      <th>model_loss</th>\n",
       "      <th>model_acc</th>\n",
       "    </tr>\n",
       "  </thead>\n",
       "  <tbody>\n",
       "    <tr>\n",
       "      <th>0</th>\n",
       "      <td>fashion</td>\n",
       "      <td>0.490775</td>\n",
       "      <td>82.008786</td>\n",
       "    </tr>\n",
       "    <tr>\n",
       "      <th>1</th>\n",
       "      <td>CNN</td>\n",
       "      <td>0.368463</td>\n",
       "      <td>85.792732</td>\n",
       "    </tr>\n",
       "  </tbody>\n",
       "</table>\n",
       "</div>"
      ],
      "text/plain": [
       "  model_name  model_loss  model_acc\n",
       "0    fashion    0.490775  82.008786\n",
       "1        CNN    0.368463  85.792732"
      ]
     },
     "execution_count": 47,
     "metadata": {},
     "output_type": "execute_result"
    }
   ],
   "source": [
    "import pandas as pd \n",
    "compare_results  = pd.DataFrame([model_0_results,\n",
    "                                 model_2_results])\n",
    "compare_results"
   ]
  },
  {
   "cell_type": "code",
   "execution_count": 48,
   "metadata": {},
   "outputs": [
    {
     "data": {
      "text/html": [
       "<div>\n",
       "<style scoped>\n",
       "    .dataframe tbody tr th:only-of-type {\n",
       "        vertical-align: middle;\n",
       "    }\n",
       "\n",
       "    .dataframe tbody tr th {\n",
       "        vertical-align: top;\n",
       "    }\n",
       "\n",
       "    .dataframe thead th {\n",
       "        text-align: right;\n",
       "    }\n",
       "</style>\n",
       "<table border=\"1\" class=\"dataframe\">\n",
       "  <thead>\n",
       "    <tr style=\"text-align: right;\">\n",
       "      <th></th>\n",
       "      <th>model_name</th>\n",
       "      <th>model_loss</th>\n",
       "      <th>model_acc</th>\n",
       "      <th>training_time</th>\n",
       "    </tr>\n",
       "  </thead>\n",
       "  <tbody>\n",
       "    <tr>\n",
       "      <th>0</th>\n",
       "      <td>fashion</td>\n",
       "      <td>0.490775</td>\n",
       "      <td>82.008786</td>\n",
       "      <td>48.880524</td>\n",
       "    </tr>\n",
       "    <tr>\n",
       "      <th>1</th>\n",
       "      <td>CNN</td>\n",
       "      <td>0.368463</td>\n",
       "      <td>85.792732</td>\n",
       "      <td>38.125435</td>\n",
       "    </tr>\n",
       "  </tbody>\n",
       "</table>\n",
       "</div>"
      ],
      "text/plain": [
       "  model_name  model_loss  model_acc  training_time\n",
       "0    fashion    0.490775  82.008786      48.880524\n",
       "1        CNN    0.368463  85.792732      38.125435"
      ]
     },
     "execution_count": 48,
     "metadata": {},
     "output_type": "execute_result"
    }
   ],
   "source": [
    "compare_results[\"training_time\"] = [total_train_time_model_0,\n",
    "                                    total_train_time_model_2]\n",
    "compare_results"
   ]
  },
  {
   "cell_type": "code",
   "execution_count": 49,
   "metadata": {},
   "outputs": [
    {
     "data": {
      "image/png": "[encoded data removed]",
      "text/plain": [
       "<Figure size 640x480 with 1 Axes>"
      ]
     },
     "metadata": {},
     "output_type": "display_data"
    }
   ],
   "source": [
    "#visualize our model \n",
    "compare_results.set_index(\"model_name\")[\"model_acc\"].plot(kind=\"barh\")\n",
    "plt.xlabel(\"accuracy(%)\")\n",
    "plt.ylabel(\"model\");"
   ]
  },
  {
   "cell_type": "code",
   "execution_count": 50,
   "metadata": {},
   "outputs": [],
   "source": [
    "def make_predictions(model : torch.nn.Module,\n",
    "                     data: list,\n",
    "                     device : torch.device=device):\n",
    "    pred_probs= []\n",
    "    model.to(device)\n",
    "    model.eval()\n",
    "    with torch.inference_mode():\n",
    "        for sample in data:\n",
    "            sample = torch.unsqueeze(sample , dim=0).to(device)\n",
    "            pred_logit = model(sample)\n",
    "            pred_prob = torch.softmax(pred_logit.squeeze(), dim=0)\n",
    "            pred_probs.append(pred_prob.cpu())\n",
    "\n",
    "    return torch.stack(pred_probs)\n",
    "\n",
    "    "
   ]
  },
  {
   "cell_type": "code",
   "execution_count": 51,
   "metadata": {},
   "outputs": [
    {
     "data": {
      "text/plain": [
       "torch.Size([1, 28, 28])"
      ]
     },
     "execution_count": 51,
     "metadata": {},
     "output_type": "execute_result"
    }
   ],
   "source": [
    "import random\n",
    "random.seed(42)\n",
    "test_samples = []\n",
    "test_labels= []\n",
    "for sample , label in random.sample(list(test_data),k=9):\n",
    "    test_samples.append(sample)\n",
    "    test_labels.append(label)\n",
    "test_samples[0].shape\n"
   ]
  },
  {
   "cell_type": "code",
   "execution_count": 53,
   "metadata": {},
   "outputs": [
    {
     "data": {
      "text/plain": [
       "Text(0.5, 1.0, 'Sandal')"
      ]
     },
     "execution_count": 53,
     "metadata": {},
     "output_type": "execute_result"
    },
    {
     "data": {
      "image/png": "[encoded data removed]",
      "text/plain": [
       "<Figure size 640x480 with 1 Axes>"
      ]
     },
     "metadata": {},
     "output_type": "display_data"
    }
   ],
   "source": [
    "plt.imshow(test_samples[0].squeeze(),cmap=\"gray\")\n",
    "plt.title(class_name[test_labels[0]])"
   ]
  },
  {
   "cell_type": "code",
   "execution_count": 54,
   "metadata": {},
   "outputs": [
    {
     "data": {
      "text/plain": [
       "tensor([[8.2417e-08, 5.7240e-09, 4.1906e-09, 2.4736e-09, 3.1512e-09, 9.9995e-01,\n",
       "         5.2529e-06, 2.5576e-06, 4.1154e-07, 4.3859e-05],\n",
       "        [1.9085e-02, 8.8522e-01, 1.0919e-04, 5.1773e-02, 6.9333e-03, 5.9415e-05,\n",
       "         3.5530e-02, 4.6321e-04, 8.0028e-04, 2.4110e-05]])"
      ]
     },
     "execution_count": 54,
     "metadata": {},
     "output_type": "execute_result"
    }
   ],
   "source": [
    "pred_probs = make_predictions(model=model_2,\n",
    "                             data=test_samples)\n",
    "pred_probs[:2]"
   ]
  },
  {
   "cell_type": "code",
   "execution_count": 55,
   "metadata": {},
   "outputs": [
    {
     "data": {
      "text/plain": [
       "tensor([5, 1, 7, 4, 3, 6, 4, 7, 1])"
      ]
     },
     "execution_count": 55,
     "metadata": {},
     "output_type": "execute_result"
    }
   ],
   "source": [
    "# convert prediction problities to labels \n",
    "pred_classes = pred_probs.argmax(dim=1)\n",
    "pred_classes"
   ]
  },
  {
   "cell_type": "code",
   "execution_count": 56,
   "metadata": {},
   "outputs": [
    {
     "data": {
      "image/png": "[encoded data removed]",
      "text/plain": [
       "<Figure size 900x900 with 9 Axes>"
      ]
     },
     "metadata": {},
     "output_type": "display_data"
    }
   ],
   "source": [
    "plt.figure(figsize=(9,9))\n",
    "nrows = 3 \n",
    "ncols = 3\n",
    "for i , sample in enumerate(test_samples):\n",
    "    plt.subplot(nrows,ncols,i+1)\n",
    "    plt.imshow(sample.squeeze(),cmap=\"gray\")\n",
    "    pred_label = class_name[pred_classes[i]]\n",
    "    truth_label= class_name[test_labels[i]]\n",
    "\n",
    "    title_text = f\"pred : {pred_label} | truth : {truth_label}\"\n",
    "\n",
    "    if pred_label == truth_label:\n",
    "        plt.title(title_text,fontsize=10 , c = \"g\")\n",
    "    else : \n",
    "        plt.title(title_text,fontsize=10,c=\"r\")\n",
    "    \n",
    "    plt.axis(False)\n",
    "\n"
   ]
  },
  {
   "cell_type": "code",
   "execution_count": 57,
   "metadata": {},
   "outputs": [
    {
     "data": {
      "application/vnd.jupyter.widget-view+json": {
       "model_id": "e46501d8f47a45c4a674cb8da96d8304",
       "version_major": 2,
       "version_minor": 0
      },
      "text/plain": [
       "making prediction ...:   0%|          | 0/313 [00:00<?, ?it/s]"
      ]
     },
     "metadata": {},
     "output_type": "display_data"
    },
    {
     "data": {
      "text/plain": [
       "tensor([9, 2, 1, 1, 6, 4, 4, 6, 5, 7])"
      ]
     },
     "execution_count": 57,
     "metadata": {},
     "output_type": "execute_result"
    }
   ],
   "source": [
    "### Confusion matrix \n",
    "from tqdm.auto import tqdm\n",
    "# make prediction \n",
    "y_preds = []\n",
    "model_2.eval()\n",
    "with torch.inference_mode():\n",
    "    for x , y in tqdm(test_dataloader, desc= \"making prediction ...\"):\n",
    "        x,y = x.to(device) , y.to(device)\n",
    "        y_logit = model_2(x)\n",
    "        y_pred = torch.softmax(y_logit.squeeze(), dim=0).argmax(dim=1)\n",
    "        y_preds.append(y_pred.cpu())\n",
    "\n",
    "#concatenate list of predictions into tensor\n",
    "# print(y_preds)\n",
    "y_pred_tensor = torch.cat(y_preds)\n",
    "y_pred_tensor[:10]\n"
   ]
  },
  {
   "cell_type": "code",
   "execution_count": 58,
   "metadata": {},
   "outputs": [
    {
     "data": {
      "text/plain": [
       "10000"
      ]
     },
     "execution_count": 58,
     "metadata": {},
     "output_type": "execute_result"
    }
   ],
   "source": [
    "len(y_pred_tensor)"
   ]
  },
  {
   "cell_type": "code",
   "execution_count": 59,
   "metadata": {},
   "outputs": [
    {
     "name": "stdout",
     "output_type": "stream",
     "text": [
      "Requirement already satisfied: mlxtend in c:\\users\\hksystem\\anaconda3\\envs\\mlstudio\\lib\\site-packages (0.23.1)\n",
      "Requirement already satisfied: scipy>=1.2.1 in c:\\users\\hksystem\\anaconda3\\envs\\mlstudio\\lib\\site-packages (from mlxtend) (1.13.1)\n",
      "Requirement already satisfied: numpy>=1.16.2 in c:\\users\\hksystem\\anaconda3\\envs\\mlstudio\\lib\\site-packages (from mlxtend) (1.26.4)\n",
      "Requirement already satisfied: pandas>=0.24.2 in c:\\users\\hksystem\\anaconda3\\envs\\mlstudio\\lib\\site-packages (from mlxtend) (2.2.2)\n",
      "Requirement already satisfied: scikit-learn>=1.0.2 in c:\\users\\hksystem\\anaconda3\\envs\\mlstudio\\lib\\site-packages (from mlxtend) (1.5.1)\n",
      "Requirement already satisfied: matplotlib>=3.0.0 in c:\\users\\hksystem\\anaconda3\\envs\\mlstudio\\lib\\site-packages (from mlxtend) (3.8.4)\n",
      "Requirement already satisfied: joblib>=0.13.2 in c:\\users\\hksystem\\anaconda3\\envs\\mlstudio\\lib\\site-packages (from mlxtend) (1.4.2)\n",
      "Requirement already satisfied: contourpy>=1.0.1 in c:\\users\\hksystem\\anaconda3\\envs\\mlstudio\\lib\\site-packages (from matplotlib>=3.0.0->mlxtend) (1.2.0)\n",
      "Requirement already satisfied: cycler>=0.10 in c:\\users\\hksystem\\anaconda3\\envs\\mlstudio\\lib\\site-packages (from matplotlib>=3.0.0->mlxtend) (0.11.0)\n",
      "Requirement already satisfied: fonttools>=4.22.0 in c:\\users\\hksystem\\anaconda3\\envs\\mlstudio\\lib\\site-packages (from matplotlib>=3.0.0->mlxtend) (4.51.0)\n",
      "Requirement already satisfied: kiwisolver>=1.3.1 in c:\\users\\hksystem\\anaconda3\\envs\\mlstudio\\lib\\site-packages (from matplotlib>=3.0.0->mlxtend) (1.4.4)\n",
      "Requirement already satisfied: packaging>=20.0 in c:\\users\\hksystem\\appdata\\roaming\\python\\python312\\site-packages (from matplotlib>=3.0.0->mlxtend) (23.2)\n",
      "Requirement already satisfied: pillow>=8 in c:\\users\\hksystem\\anaconda3\\envs\\mlstudio\\lib\\site-packages (from matplotlib>=3.0.0->mlxtend) (10.4.0)\n",
      "Requirement already satisfied: pyparsing>=2.3.1 in c:\\users\\hksystem\\anaconda3\\envs\\mlstudio\\lib\\site-packages (from matplotlib>=3.0.0->mlxtend) (3.0.9)\n",
      "Requirement already satisfied: python-dateutil>=2.7 in c:\\users\\hksystem\\appdata\\roaming\\python\\python312\\site-packages (from matplotlib>=3.0.0->mlxtend) (2.9.0.post0)\n",
      "Requirement already satisfied: pytz>=2020.1 in c:\\users\\hksystem\\anaconda3\\envs\\mlstudio\\lib\\site-packages (from pandas>=0.24.2->mlxtend) (2024.1)\n",
      "Requirement already satisfied: tzdata>=2022.7 in c:\\users\\hksystem\\anaconda3\\envs\\mlstudio\\lib\\site-packages (from pandas>=0.24.2->mlxtend) (2023.3)\n",
      "Requirement already satisfied: threadpoolctl>=3.1.0 in c:\\users\\hksystem\\anaconda3\\envs\\mlstudio\\lib\\site-packages (from scikit-learn>=1.0.2->mlxtend) (3.5.0)\n",
      "Requirement already satisfied: six>=1.5 in c:\\users\\hksystem\\appdata\\roaming\\python\\python312\\site-packages (from python-dateutil>=2.7->matplotlib>=3.0.0->mlxtend) (1.16.0)\n"
     ]
    }
   ],
   "source": [
    "!pip install mlxtend"
   ]
  },
  {
   "cell_type": "code",
   "execution_count": 60,
   "metadata": {},
   "outputs": [
    {
     "data": {
      "text/plain": [
       "tensor([9, 2, 1,  ..., 8, 1, 5])"
      ]
     },
     "execution_count": 60,
     "metadata": {},
     "output_type": "execute_result"
    }
   ],
   "source": [
    "test_data.targets"
   ]
  },
  {
   "cell_type": "code",
   "execution_count": 64,
   "metadata": {},
   "outputs": [
    {
     "data": {
      "image/png": "[encoded data removed]",
      "text/plain": [
       "<Figure size 1000x700 with 1 Axes>"
      ]
     },
     "metadata": {},
     "output_type": "display_data"
    }
   ],
   "source": [
    "import torchmetrics\n",
    "from torchmetrics import ConfusionMatrix\n",
    "import mlxtend\n",
    "from mlxtend.plotting import plot_confusion_matrix\n",
    "\n",
    "confmat = ConfusionMatrix(task=\"multiclass\" , num_classes=len(class_name))\n",
    "\n",
    "confmat_tensor = confmat(preds = y_pred_tensor,\n",
    "                         target = test_data.targets)\n",
    "#plot \n",
    "fig,ax = plot_confusion_matrix(\n",
    "    conf_mat= confmat_tensor.numpy(),\n",
    "    class_names=class_name,\n",
    "    figsize=(10,7)\n",
    ")\n"
   ]
  },
  {
   "cell_type": "code",
   "execution_count": 63,
   "metadata": {},
   "outputs": [
    {
     "data": {
      "text/plain": [
       "tensor([[632,   6,  30,  76,  14,   1, 232,   0,   9,   0],\n",
       "        [  9, 848,   2, 102,  32,   0,   3,   0,   4,   0],\n",
       "        [ 11,   3, 765,  10, 131,   0,  74,   0,   6,   0],\n",
       "        [ 26,  10,  25, 833,  65,   0,  32,   0,   7,   2],\n",
       "        [  3,   3, 129,  33, 750,   0,  76,   0,   6,   0],\n",
       "        [  6,   3,   2,   1,   2, 793,   3,  81,  73,  36],\n",
       "        [ 86,   6, 123,  56, 121,   0, 591,   0,  17,   0],\n",
       "        [  1,   0,   0,   0,   0,  23,   0, 927,   9,  40],\n",
       "        [ 13,   2,  21,  10,  25,   3,  34,   6, 885,   1],\n",
       "        [  0,   0,   0,   1,   1,  19,   1,  88,   4, 886]])"
      ]
     },
     "execution_count": 63,
     "metadata": {},
     "output_type": "execute_result"
    }
   ],
   "source": [
    "confmat_tensor"
   ]
  },
  {
   "cell_type": "code",
   "execution_count": 69,
   "metadata": {},
   "outputs": [
    {
     "name": "stdout",
     "output_type": "stream",
     "text": [
      "saving model to : models\\Compute_vision_model\n"
     ]
    }
   ],
   "source": [
    "# save model \n",
    "from pathlib import Path\n",
    "# create MODEL directory path\n",
    "MODEL_PATH = Path(\"models\")\n",
    "MODEL_PATH.mkdir(parents = True,\n",
    "                 exist_ok = True)\n",
    "\n",
    "#create model save path \n",
    "MODEL_NAME = \"Compute_vision_model\"\n",
    "MODEL_SAVE_PATH = MODEL_PATH/MODEL_NAME\n",
    "\n",
    "# sae model state dict \n",
    "print(f\"saving model to : {MODEL_SAVE_PATH}\")\n",
    "torch.save(obj=model_2.state_dict(),\n",
    "           f=MODEL_SAVE_PATH)\n"
   ]
  },
  {
   "cell_type": "code",
   "execution_count": 70,
   "metadata": {},
   "outputs": [
    {
     "data": {
      "text/plain": [
       "torch.Size([1, 28, 28])"
      ]
     },
     "execution_count": 70,
     "metadata": {},
     "output_type": "execute_result"
    }
   ],
   "source": [
    "image.shape"
   ]
  },
  {
   "cell_type": "code",
   "execution_count": 71,
   "metadata": {},
   "outputs": [
    {
     "name": "stderr",
     "output_type": "stream",
     "text": [
      "C:\\Users\\hksystem\\AppData\\Local\\Temp\\ipykernel_11608\\258194191.py:6: FutureWarning: You are using `torch.load` with `weights_only=False` (the current default value), which uses the default pickle module implicitly. It is possible to construct malicious pickle data which will execute arbitrary code during unpickling (See https://github.com/pytorch/pytorch/blob/main/SECURITY.md#untrusted-models for more details). In a future release, the default value for `weights_only` will be flipped to `True`. This limits the functions that could be executed during unpickling. Arbitrary objects will no longer be allowed to be loaded via this mode unless they are explicitly allowlisted by the user via `torch.serialization.add_safe_globals`. We recommend you start setting `weights_only=True` for any use case where you don't have full control of the loaded file. Please open an issue on GitHub for any issues related to this experimental feature.\n",
      "  loaded_model_2.load_state_dict(torch.load(f=MODEL_SAVE_PATH))\n"
     ]
    },
    {
     "data": {
      "text/plain": [
       "CNN(\n",
       "  (conv_block1): Sequential(\n",
       "    (0): Conv2d(1, 10, kernel_size=(3, 3), stride=(1, 1), padding=(1, 1))\n",
       "    (1): ReLU()\n",
       "    (2): Conv2d(10, 10, kernel_size=(3, 3), stride=(1, 1), padding=(1, 1))\n",
       "    (3): ReLU()\n",
       "    (4): MaxPool2d(kernel_size=2, stride=2, padding=0, dilation=1, ceil_mode=False)\n",
       "  )\n",
       "  (conv_block2): Sequential(\n",
       "    (0): Conv2d(10, 10, kernel_size=(3, 3), stride=(1, 1), padding=(1, 1))\n",
       "    (1): ReLU()\n",
       "    (2): Conv2d(10, 10, kernel_size=(3, 3), stride=(1, 1), padding=(1, 1))\n",
       "    (3): ReLU()\n",
       "    (4): MaxPool2d(kernel_size=2, stride=2, padding=0, dilation=1, ceil_mode=False)\n",
       "  )\n",
       "  (classifier): Sequential(\n",
       "    (0): Flatten(start_dim=1, end_dim=-1)\n",
       "    (1): Linear(in_features=490, out_features=10, bias=True)\n",
       "  )\n",
       ")"
      ]
     },
     "execution_count": 71,
     "metadata": {},
     "output_type": "execute_result"
    }
   ],
   "source": [
    "#create a new instance \n",
    "torch.manual_seed = 42\n",
    "loaded_model_2 = CNN(input_shape=1,\n",
    "                     hidden_units=10,\n",
    "                     output_shape=len(class_name))\n",
    "loaded_model_2.load_state_dict(torch.load(f=MODEL_SAVE_PATH))\n",
    "loaded_model_2.to(device)"
   ]
  },
  {
   "cell_type": "code",
   "execution_count": 72,
   "metadata": {},
   "outputs": [
    {
     "data": {
      "text/plain": [
       "{'model_name': 'CNN',\n",
       " 'model_loss': 0.36846333742141724,\n",
       " 'model_acc': 85.79273162939297}"
      ]
     },
     "execution_count": 72,
     "metadata": {},
     "output_type": "execute_result"
    }
   ],
   "source": [
    "model_2_results"
   ]
  },
  {
   "cell_type": "code",
   "execution_count": 73,
   "metadata": {},
   "outputs": [
    {
     "data": {
      "application/vnd.jupyter.widget-view+json": {
       "model_id": "bd9fc03b711a49659014635b7aed78d4",
       "version_major": 2,
       "version_minor": 0
      },
      "text/plain": [
       "  0%|          | 0/313 [00:00<?, ?it/s]"
      ]
     },
     "metadata": {},
     "output_type": "display_data"
    },
    {
     "data": {
      "text/plain": [
       "{'model_name': 'CNN',\n",
       " 'model_loss': 0.36846333742141724,\n",
       " 'model_acc': 85.79273162939297}"
      ]
     },
     "execution_count": 73,
     "metadata": {},
     "output_type": "execute_result"
    }
   ],
   "source": [
    "#evaluate loaded model \n",
    "torch.manual_seed =42 \n",
    "loaded_model_2_result = eval_model(model=model_2,\n",
    "                                   data_loader=test_dataloader,\n",
    "                                   loss_fn=loss_fn,\n",
    "                                   accuracy_fn=accuracy_fn)\n",
    "loaded_model_2_result"
   ]
  },
  {
   "cell_type": "code",
   "execution_count": 75,
   "metadata": {},
   "outputs": [
    {
     "data": {
      "text/plain": [
       "tensor(True)"
      ]
     },
     "execution_count": 75,
     "metadata": {},
     "output_type": "execute_result"
    }
   ],
   "source": [
    "torch.isclose(torch.tensor(model_2_results[\"model_loss\"]),\n",
    "              torch.tensor(loaded_model_2_result[\"model_loss\"]),\n",
    "              atol=1e-02)"
   ]
  }
 ],
 "metadata": {
  "kernelspec": {
   "display_name": "MLstudio",
   "language": "python",
   "name": "python3"
  },
  "language_info": {
   "codemirror_mode": {
    "name": "ipython",
    "version": 3
   },
   "file_extension": ".py",
   "mimetype": "text/x-python",
   "name": "python",
   "nbconvert_exporter": "python",
   "pygments_lexer": "ipython3",
   "version": "3.12.4"
  }
 },
 "nbformat": 4,
 "nbformat_minor": 2
}
