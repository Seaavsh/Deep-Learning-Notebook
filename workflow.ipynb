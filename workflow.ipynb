{
 "cells": [
  {
   "cell_type": "code",
   "execution_count": 1,
   "metadata": {},
   "outputs": [
    {
     "data": {
      "text/plain": [
       "'2.4.0'"
      ]
     },
     "execution_count": 1,
     "metadata": {},
     "output_type": "execute_result"
    }
   ],
   "source": [
    "import torch\n",
    "from torch import nn\n",
    "import matplotlib.pyplot as plt\n",
    "\n",
    "torch.__version__"
   ]
  },
  {
   "cell_type": "markdown",
   "metadata": {},
   "source": [
    "### Data (preparing and loading)"
   ]
  },
  {
   "cell_type": "code",
   "execution_count": 2,
   "metadata": {},
   "outputs": [
    {
     "data": {
      "text/plain": [
       "(tensor([[0.0000],\n",
       "         [0.0200],\n",
       "         [0.0400],\n",
       "         [0.0600],\n",
       "         [0.0800],\n",
       "         [0.1000],\n",
       "         [0.1200],\n",
       "         [0.1400],\n",
       "         [0.1600],\n",
       "         [0.1800]]),\n",
       " tensor([[0.3000],\n",
       "         [0.3140],\n",
       "         [0.3280],\n",
       "         [0.3420],\n",
       "         [0.3560],\n",
       "         [0.3700],\n",
       "         [0.3840],\n",
       "         [0.3980],\n",
       "         [0.4120],\n",
       "         [0.4260]]))"
      ]
     },
     "execution_count": 2,
     "metadata": {},
     "output_type": "execute_result"
    }
   ],
   "source": [
    "weight = 0.7\n",
    "bias = 0.3\n",
    "start = 0\n",
    "end= 1\n",
    "step = 0.02\n",
    "X = torch.arange(start , end , step).unsqueeze(dim=1)\n",
    "y = weight * X + bias\n",
    "\n",
    "X[:10] , y[:10]"
   ]
  },
  {
   "cell_type": "code",
   "execution_count": 3,
   "metadata": {},
   "outputs": [
    {
     "data": {
      "text/plain": [
       "(50, 50)"
      ]
     },
     "execution_count": 3,
     "metadata": {},
     "output_type": "execute_result"
    }
   ],
   "source": [
    "len(X) , len(y)"
   ]
  },
  {
   "cell_type": "markdown",
   "metadata": {},
   "source": [
    "### spliting data into training and test sets\n",
    "training set ,\n",
    "validation set , \n",
    "test set ,"
   ]
  },
  {
   "cell_type": "code",
   "execution_count": 4,
   "metadata": {},
   "outputs": [
    {
     "data": {
      "text/plain": [
       "(40, 10, 10, 40)"
      ]
     },
     "execution_count": 4,
     "metadata": {},
     "output_type": "execute_result"
    }
   ],
   "source": [
    "train_split = int(0.8*len(X))\n",
    "X_train , y_train = X[ :train_split] , y[:train_split]\n",
    "X_test , y_test = X[train_split:] , y[train_split:]\n",
    "len(X_train) , len(X_test) , len(y_test) , len(y_train)"
   ]
  },
  {
   "cell_type": "markdown",
   "metadata": {},
   "source": [
    "Visualize our data !"
   ]
  },
  {
   "cell_type": "code",
   "execution_count": 5,
   "metadata": {},
   "outputs": [],
   "source": [
    "def plot_predictions(train_data = X_train,\n",
    "                     train_lables = y_train,\n",
    "                     test_data = X_test,\n",
    "                     test_lables = y_test,\n",
    "                     predictions = None):\n",
    "    \"\"\"\n",
    "    plots training data , test data and compares predictions.\n",
    "    \"\"\"\n",
    "    plt.figure(figsize = (10,7))\n",
    "\n",
    "    #plot training data in blue\n",
    "    plt.scatter(train_data, train_lables , c=\"b\" , s=4 , label=\"Training data\" )\n",
    "\n",
    "    #plot test data in green\n",
    "    plt.scatter(test_data , test_lables , c=\"g\" , s=4 , label=\"Testing data\")\n",
    "\n",
    "    #Are there predictions? \n",
    "    if predictions is not None:\n",
    "        plt.scatter(test_data , predictions , c=\"r\" , label=\"predictions\")\n",
    "    \n",
    "    #Show the legend \n",
    "    plt.legend(prop={\"size\" : 14});\n"
   ]
  },
  {
   "cell_type": "code",
   "execution_count": 6,
   "metadata": {},
   "outputs": [
    {
     "data": {
      "image/png": "[encoded data removed]",
      "text/plain": [
       "<Figure size 1000x700 with 1 Axes>"
      ]
     },
     "metadata": {},
     "output_type": "display_data"
    }
   ],
   "source": [
    "plot_predictions();"
   ]
  },
  {
   "cell_type": "markdown",
   "metadata": {},
   "source": [
    "### Our fisrt PyTorch model! \n",
    "* Start with random values ( weight and bias)\n",
    "* Look at training data and adjust the random values to better (or get closer to ) the ideal values ( the weight and bias values we used to create the data)\n",
    "How?\n",
    "1. Gradient descent\n",
    "2. Backpropagation\n",
    "\n",
    "* 3blue1brown youtube channel"
   ]
  },
  {
   "cell_type": "code",
   "execution_count": 7,
   "metadata": {},
   "outputs": [],
   "source": [
    "from torch import nn\n",
    "\n",
    "class LinearRegressionModel(nn.Module):\n",
    "    def __init__(self):\n",
    "        super().__init__()\n",
    "        self.weights =nn.Parameter(torch.randn(1,\n",
    "                                               requires_grad=True,\n",
    "                                               dtype=torch.float))\n",
    "        self.bias= nn.Parameter(torch.randn(1,\n",
    "                                             requires_grad=True,\n",
    "                                             dtype=torch.float))\n",
    "        \n",
    "    #Forward method to define the computation in the model\n",
    "    def forward(self, x:torch.Tensor) -> torch.Tensor :\n",
    "        return self.weights * x + self.bias  \n",
    "        \n",
    "        \n"
   ]
  },
  {
   "cell_type": "markdown",
   "metadata": {},
   "source": [
    "### PyTorch model building essentials\n",
    "* torch.nn - contains all of the buildings for computational praphs (another word for neural networks)\n",
    "* torch.nn.parameter - what parameters should our model try and learn , often a PyTorch layer from torch.nn will set these for us\n",
    "* torch.nn.module - the base class for all neural network module , if you subclass it , you should overwrite forward()\n",
    "* torch.optim - this where the optimizers in PyTorch live , they will help with gradient descent\n",
    "* def forward() - All nn.module subclasses require you to overwrite forward() , this method defines what happens in the forward computation"
   ]
  },
  {
   "cell_type": "code",
   "execution_count": 8,
   "metadata": {},
   "outputs": [
    {
     "data": {
      "text/plain": [
       "[Parameter containing:\n",
       " tensor([0.3367], requires_grad=True),\n",
       " Parameter containing:\n",
       " tensor([0.1288], requires_grad=True)]"
      ]
     },
     "execution_count": 8,
     "metadata": {},
     "output_type": "execute_result"
    }
   ],
   "source": [
    "#creating a random seed \n",
    "torch. manual_seed(42)\n",
    "\n",
    "#create an instance of the model (this is a subclass of nn.module)\n",
    "module_0 = LinearRegressionModel()\n",
    "\n",
    "#checkout the parameters\n",
    "list(module_0.parameters())"
   ]
  },
  {
   "cell_type": "code",
   "execution_count": 9,
   "metadata": {},
   "outputs": [
    {
     "data": {
      "text/plain": [
       "OrderedDict([('weights', tensor([0.3367])), ('bias', tensor([0.1288]))])"
      ]
     },
     "execution_count": 9,
     "metadata": {},
     "output_type": "execute_result"
    }
   ],
   "source": [
    "#list named parameters \n",
    "module_0.state_dict()"
   ]
  },
  {
   "cell_type": "code",
   "execution_count": 10,
   "metadata": {},
   "outputs": [
    {
     "data": {
      "text/plain": [
       "(0.7, 0.3)"
      ]
     },
     "execution_count": 10,
     "metadata": {},
     "output_type": "execute_result"
    }
   ],
   "source": [
    "weight , bias"
   ]
  },
  {
   "cell_type": "markdown",
   "metadata": {},
   "source": [
    "### Making prediction usung `torch.inference_mode()`\n",
    "\n",
    "to checkout our model's predictive power , let's see how well it predicts `y_test` based on `X_test`.\n",
    "when we pass data through our model , it's going to run it through the `forward()` method.\n"
   ]
  },
  {
   "cell_type": "code",
   "execution_count": 11,
   "metadata": {},
   "outputs": [
    {
     "data": {
      "text/plain": [
       "(tensor([[0.8000],\n",
       "         [0.8200],\n",
       "         [0.8400],\n",
       "         [0.8600],\n",
       "         [0.8800],\n",
       "         [0.9000],\n",
       "         [0.9200],\n",
       "         [0.9400],\n",
       "         [0.9600],\n",
       "         [0.9800]]),\n",
       " tensor([[0.8600],\n",
       "         [0.8740],\n",
       "         [0.8880],\n",
       "         [0.9020],\n",
       "         [0.9160],\n",
       "         [0.9300],\n",
       "         [0.9440],\n",
       "         [0.9580],\n",
       "         [0.9720],\n",
       "         [0.9860]]))"
      ]
     },
     "execution_count": 11,
     "metadata": {},
     "output_type": "execute_result"
    }
   ],
   "source": [
    "# Make prediction with model\n",
    "X_test , y_test"
   ]
  },
  {
   "cell_type": "code",
   "execution_count": 12,
   "metadata": {},
   "outputs": [
    {
     "data": {
      "text/plain": [
       "tensor([[0.3982],\n",
       "        [0.4049],\n",
       "        [0.4116],\n",
       "        [0.4184],\n",
       "        [0.4251],\n",
       "        [0.4318],\n",
       "        [0.4386],\n",
       "        [0.4453],\n",
       "        [0.4520],\n",
       "        [0.4588]], grad_fn=<AddBackward0>)"
      ]
     },
     "execution_count": 12,
     "metadata": {},
     "output_type": "execute_result"
    }
   ],
   "source": [
    "y_preds = module_0(X_test)\n",
    "y_preds"
   ]
  },
  {
   "cell_type": "code",
   "execution_count": 13,
   "metadata": {},
   "outputs": [
    {
     "data": {
      "text/plain": [
       "tensor([[0.3982],\n",
       "        [0.4049],\n",
       "        [0.4116],\n",
       "        [0.4184],\n",
       "        [0.4251],\n",
       "        [0.4318],\n",
       "        [0.4386],\n",
       "        [0.4453],\n",
       "        [0.4520],\n",
       "        [0.4588]])"
      ]
     },
     "execution_count": 13,
     "metadata": {},
     "output_type": "execute_result"
    }
   ],
   "source": [
    "with torch.inference_mode():\n",
    "    y_preds = module_0(X_test)\n",
    "\n",
    "y_preds"
   ]
  },
  {
   "cell_type": "code",
   "execution_count": 14,
   "metadata": {},
   "outputs": [
    {
     "data": {
      "image/png": "[encoded data removed]",
      "text/plain": [
       "<Figure size 1000x700 with 1 Axes>"
      ]
     },
     "metadata": {},
     "output_type": "display_data"
    }
   ],
   "source": [
    "plot_predictions(predictions=y_preds)"
   ]
  },
  {
   "cell_type": "markdown",
   "metadata": {},
   "source": [
    "### Train model \n",
    "* Using the loss functions\n",
    "* optimizer"
   ]
  },
  {
   "cell_type": "code",
   "execution_count": 15,
   "metadata": {},
   "outputs": [
    {
     "data": {
      "text/plain": [
       "OrderedDict([('weights', tensor([0.3367])), ('bias', tensor([0.1288]))])"
      ]
     },
     "execution_count": 15,
     "metadata": {},
     "output_type": "execute_result"
    }
   ],
   "source": [
    "list(module_0.parameters())\n",
    "module_0.state_dict()"
   ]
  },
  {
   "cell_type": "code",
   "execution_count": 16,
   "metadata": {},
   "outputs": [],
   "source": [
    "#Setup a loss function\n",
    "# nn.L1Loss\n",
    "loss_fn = nn.L1Loss()\n",
    "\n",
    "#setup an optimizer\n",
    "#lr = learning rate \n",
    "optimizer = torch.optim.SGD(params=module_0.parameters(),\n",
    "                            lr= 0.01)"
   ]
  },
  {
   "cell_type": "markdown",
   "metadata": {},
   "source": [
    "### Building a training loop\n",
    "1. Loop through the data\n",
    "2. Forward pass\n",
    "3. calculate the loss\n",
    "4. Loss backward - **backpropagation**\n",
    "5. Optimizer step - **gradient descent**"
   ]
  },
  {
   "cell_type": "code",
   "execution_count": 17,
   "metadata": {},
   "outputs": [
    {
     "name": "stdout",
     "output_type": "stream",
     "text": [
      "epoch : 0 | loss: 0.31288138031959534 | test loss : 0.48106518387794495 \n",
      "OrderedDict({'weights': tensor([0.3406]), 'bias': tensor([0.1388])})\n",
      "OrderedDict({'weights': tensor([0.3445]), 'bias': tensor([0.1488])})\n",
      "OrderedDict({'weights': tensor([0.3484]), 'bias': tensor([0.1588])})\n",
      "OrderedDict({'weights': tensor([0.3523]), 'bias': tensor([0.1688])})\n",
      "OrderedDict({'weights': tensor([0.3562]), 'bias': tensor([0.1788])})\n",
      "OrderedDict({'weights': tensor([0.3601]), 'bias': tensor([0.1888])})\n",
      "OrderedDict({'weights': tensor([0.3640]), 'bias': tensor([0.1988])})\n",
      "OrderedDict({'weights': tensor([0.3679]), 'bias': tensor([0.2088])})\n",
      "OrderedDict({'weights': tensor([0.3718]), 'bias': tensor([0.2188])})\n",
      "OrderedDict({'weights': tensor([0.3757]), 'bias': tensor([0.2288])})\n",
      "epoch : 10 | loss: 0.1976713240146637 | test loss : 0.3463551998138428 \n",
      "OrderedDict({'weights': tensor([0.3796]), 'bias': tensor([0.2388])})\n",
      "OrderedDict({'weights': tensor([0.3835]), 'bias': tensor([0.2488])})\n",
      "OrderedDict({'weights': tensor([0.3874]), 'bias': tensor([0.2588])})\n",
      "OrderedDict({'weights': tensor([0.3913]), 'bias': tensor([0.2688])})\n",
      "OrderedDict({'weights': tensor([0.3952]), 'bias': tensor([0.2788])})\n",
      "OrderedDict({'weights': tensor([0.3991]), 'bias': tensor([0.2888])})\n",
      "OrderedDict({'weights': tensor([0.4030]), 'bias': tensor([0.2988])})\n",
      "OrderedDict({'weights': tensor([0.4069]), 'bias': tensor([0.3088])})\n",
      "OrderedDict({'weights': tensor([0.4108]), 'bias': tensor([0.3178])})\n",
      "OrderedDict({'weights': tensor([0.4146]), 'bias': tensor([0.3258])})\n",
      "epoch : 20 | loss: 0.08908725529909134 | test loss : 0.21729660034179688 \n",
      "OrderedDict({'weights': tensor([0.4184]), 'bias': tensor([0.3333])})\n",
      "OrderedDict({'weights': tensor([0.4222]), 'bias': tensor([0.3403])})\n",
      "OrderedDict({'weights': tensor([0.4258]), 'bias': tensor([0.3463])})\n",
      "OrderedDict({'weights': tensor([0.4293]), 'bias': tensor([0.3518])})\n",
      "OrderedDict({'weights': tensor([0.4328]), 'bias': tensor([0.3568])})\n",
      "OrderedDict({'weights': tensor([0.4361]), 'bias': tensor([0.3613])})\n",
      "OrderedDict({'weights': tensor([0.4394]), 'bias': tensor([0.3653])})\n",
      "OrderedDict({'weights': tensor([0.4425]), 'bias': tensor([0.3688])})\n",
      "OrderedDict({'weights': tensor([0.4455]), 'bias': tensor([0.3718])})\n",
      "OrderedDict({'weights': tensor([0.4483]), 'bias': tensor([0.3743])})\n",
      "epoch : 30 | loss: 0.053148526698350906 | test loss : 0.14464017748832703 \n",
      "OrderedDict({'weights': tensor([0.4512]), 'bias': tensor([0.3768])})\n",
      "OrderedDict({'weights': tensor([0.4539]), 'bias': tensor([0.3788])})\n",
      "OrderedDict({'weights': tensor([0.4564]), 'bias': tensor([0.3803])})\n",
      "OrderedDict({'weights': tensor([0.4590]), 'bias': tensor([0.3818])})\n",
      "OrderedDict({'weights': tensor([0.4615]), 'bias': tensor([0.3833])})\n",
      "OrderedDict({'weights': tensor([0.4639]), 'bias': tensor([0.3843])})\n",
      "OrderedDict({'weights': tensor([0.4662]), 'bias': tensor([0.3853])})\n",
      "OrderedDict({'weights': tensor([0.4684]), 'bias': tensor([0.3858])})\n",
      "OrderedDict({'weights': tensor([0.4706]), 'bias': tensor([0.3863])})\n",
      "OrderedDict({'weights': tensor([0.4728]), 'bias': tensor([0.3868])})\n",
      "epoch : 40 | loss: 0.04543796554207802 | test loss : 0.11360953003168106 \n",
      "OrderedDict({'weights': tensor([0.4748]), 'bias': tensor([0.3868])})\n",
      "OrderedDict({'weights': tensor([0.4768]), 'bias': tensor([0.3868])})\n",
      "OrderedDict({'weights': tensor([0.4788]), 'bias': tensor([0.3868])})\n",
      "OrderedDict({'weights': tensor([0.4808]), 'bias': tensor([0.3868])})\n",
      "OrderedDict({'weights': tensor([0.4828]), 'bias': tensor([0.3868])})\n",
      "OrderedDict({'weights': tensor([0.4848]), 'bias': tensor([0.3868])})\n",
      "OrderedDict({'weights': tensor([0.4866]), 'bias': tensor([0.3863])})\n",
      "OrderedDict({'weights': tensor([0.4884]), 'bias': tensor([0.3858])})\n",
      "OrderedDict({'weights': tensor([0.4902]), 'bias': tensor([0.3853])})\n",
      "OrderedDict({'weights': tensor([0.4920]), 'bias': tensor([0.3848])})\n",
      "epoch : 50 | loss: 0.04167863354086876 | test loss : 0.09919948130846024 \n",
      "OrderedDict({'weights': tensor([0.4938]), 'bias': tensor([0.3843])})\n",
      "OrderedDict({'weights': tensor([0.4956]), 'bias': tensor([0.3838])})\n",
      "OrderedDict({'weights': tensor([0.4974]), 'bias': tensor([0.3833])})\n",
      "OrderedDict({'weights': tensor([0.4992]), 'bias': tensor([0.3828])})\n",
      "OrderedDict({'weights': tensor([0.5010]), 'bias': tensor([0.3823])})\n",
      "OrderedDict({'weights': tensor([0.5028]), 'bias': tensor([0.3818])})\n",
      "OrderedDict({'weights': tensor([0.5046]), 'bias': tensor([0.3813])})\n",
      "OrderedDict({'weights': tensor([0.5064]), 'bias': tensor([0.3808])})\n",
      "OrderedDict({'weights': tensor([0.5082]), 'bias': tensor([0.3803])})\n",
      "OrderedDict({'weights': tensor([0.5100]), 'bias': tensor([0.3798])})\n",
      "epoch : 60 | loss: 0.03818932920694351 | test loss : 0.08886633068323135 \n",
      "OrderedDict({'weights': tensor([0.5116]), 'bias': tensor([0.3788])})\n",
      "OrderedDict({'weights': tensor([0.5134]), 'bias': tensor([0.3783])})\n",
      "OrderedDict({'weights': tensor([0.5152]), 'bias': tensor([0.3778])})\n",
      "OrderedDict({'weights': tensor([0.5168]), 'bias': tensor([0.3768])})\n",
      "OrderedDict({'weights': tensor([0.5186]), 'bias': tensor([0.3763])})\n",
      "OrderedDict({'weights': tensor([0.5202]), 'bias': tensor([0.3753])})\n",
      "OrderedDict({'weights': tensor([0.5220]), 'bias': tensor([0.3748])})\n",
      "OrderedDict({'weights': tensor([0.5236]), 'bias': tensor([0.3738])})\n",
      "OrderedDict({'weights': tensor([0.5254]), 'bias': tensor([0.3733])})\n",
      "OrderedDict({'weights': tensor([0.5272]), 'bias': tensor([0.3728])})\n",
      "epoch : 70 | loss: 0.03476089984178543 | test loss : 0.0805937647819519 \n",
      "OrderedDict({'weights': tensor([0.5288]), 'bias': tensor([0.3718])})\n",
      "OrderedDict({'weights': tensor([0.5306]), 'bias': tensor([0.3713])})\n",
      "OrderedDict({'weights': tensor([0.5322]), 'bias': tensor([0.3703])})\n",
      "OrderedDict({'weights': tensor([0.5340]), 'bias': tensor([0.3698])})\n",
      "OrderedDict({'weights': tensor([0.5355]), 'bias': tensor([0.3688])})\n",
      "OrderedDict({'weights': tensor([0.5373]), 'bias': tensor([0.3683])})\n",
      "OrderedDict({'weights': tensor([0.5391]), 'bias': tensor([0.3678])})\n",
      "OrderedDict({'weights': tensor([0.5407]), 'bias': tensor([0.3668])})\n",
      "OrderedDict({'weights': tensor([0.5425]), 'bias': tensor([0.3663])})\n",
      "OrderedDict({'weights': tensor([0.5441]), 'bias': tensor([0.3653])})\n",
      "epoch : 80 | loss: 0.03132382780313492 | test loss : 0.07232122868299484 \n",
      "OrderedDict({'weights': tensor([0.5459]), 'bias': tensor([0.3648])})\n",
      "OrderedDict({'weights': tensor([0.5475]), 'bias': tensor([0.3638])})\n",
      "OrderedDict({'weights': tensor([0.5493]), 'bias': tensor([0.3633])})\n",
      "OrderedDict({'weights': tensor([0.5509]), 'bias': tensor([0.3623])})\n",
      "OrderedDict({'weights': tensor([0.5527]), 'bias': tensor([0.3618])})\n",
      "OrderedDict({'weights': tensor([0.5545]), 'bias': tensor([0.3613])})\n",
      "OrderedDict({'weights': tensor([0.5561]), 'bias': tensor([0.3603])})\n",
      "OrderedDict({'weights': tensor([0.5579]), 'bias': tensor([0.3598])})\n",
      "OrderedDict({'weights': tensor([0.5595]), 'bias': tensor([0.3588])})\n",
      "OrderedDict({'weights': tensor([0.5613]), 'bias': tensor([0.3583])})\n",
      "epoch : 90 | loss: 0.02788739837706089 | test loss : 0.06473556160926819 \n",
      "OrderedDict({'weights': tensor([0.5629]), 'bias': tensor([0.3573])})\n",
      "OrderedDict({'weights': tensor([0.5647]), 'bias': tensor([0.3568])})\n",
      "OrderedDict({'weights': tensor([0.5665]), 'bias': tensor([0.3563])})\n",
      "OrderedDict({'weights': tensor([0.5681]), 'bias': tensor([0.3553])})\n",
      "OrderedDict({'weights': tensor([0.5699]), 'bias': tensor([0.3548])})\n",
      "OrderedDict({'weights': tensor([0.5715]), 'bias': tensor([0.3538])})\n",
      "OrderedDict({'weights': tensor([0.5733]), 'bias': tensor([0.3533])})\n",
      "OrderedDict({'weights': tensor([0.5748]), 'bias': tensor([0.3523])})\n",
      "OrderedDict({'weights': tensor([0.5766]), 'bias': tensor([0.3518])})\n",
      "OrderedDict({'weights': tensor([0.5784]), 'bias': tensor([0.3513])})\n",
      "epoch : 100 | loss: 0.024458957836031914 | test loss : 0.05646304413676262 \n",
      "OrderedDict({'weights': tensor([0.5800]), 'bias': tensor([0.3503])})\n",
      "OrderedDict({'weights': tensor([0.5818]), 'bias': tensor([0.3498])})\n",
      "OrderedDict({'weights': tensor([0.5834]), 'bias': tensor([0.3488])})\n",
      "OrderedDict({'weights': tensor([0.5852]), 'bias': tensor([0.3483])})\n",
      "OrderedDict({'weights': tensor([0.5868]), 'bias': tensor([0.3473])})\n",
      "OrderedDict({'weights': tensor([0.5886]), 'bias': tensor([0.3468])})\n",
      "OrderedDict({'weights': tensor([0.5902]), 'bias': tensor([0.3458])})\n",
      "OrderedDict({'weights': tensor([0.5920]), 'bias': tensor([0.3453])})\n",
      "OrderedDict({'weights': tensor([0.5938]), 'bias': tensor([0.3448])})\n",
      "OrderedDict({'weights': tensor([0.5954]), 'bias': tensor([0.3438])})\n",
      "epoch : 110 | loss: 0.021020207554101944 | test loss : 0.04819049686193466 \n",
      "OrderedDict({'weights': tensor([0.5972]), 'bias': tensor([0.3433])})\n",
      "OrderedDict({'weights': tensor([0.5988]), 'bias': tensor([0.3423])})\n",
      "OrderedDict({'weights': tensor([0.6006]), 'bias': tensor([0.3418])})\n",
      "OrderedDict({'weights': tensor([0.6022]), 'bias': tensor([0.3408])})\n",
      "OrderedDict({'weights': tensor([0.6040]), 'bias': tensor([0.3403])})\n",
      "OrderedDict({'weights': tensor([0.6058]), 'bias': tensor([0.3398])})\n",
      "OrderedDict({'weights': tensor([0.6074]), 'bias': tensor([0.3388])})\n",
      "OrderedDict({'weights': tensor([0.6092]), 'bias': tensor([0.3383])})\n",
      "OrderedDict({'weights': tensor([0.6108]), 'bias': tensor([0.3373])})\n",
      "OrderedDict({'weights': tensor([0.6126]), 'bias': tensor([0.3368])})\n",
      "epoch : 120 | loss: 0.01758546568453312 | test loss : 0.04060482233762741 \n",
      "OrderedDict({'weights': tensor([0.6141]), 'bias': tensor([0.3358])})\n",
      "OrderedDict({'weights': tensor([0.6159]), 'bias': tensor([0.3353])})\n",
      "OrderedDict({'weights': tensor([0.6175]), 'bias': tensor([0.3343])})\n",
      "OrderedDict({'weights': tensor([0.6193]), 'bias': tensor([0.3338])})\n",
      "OrderedDict({'weights': tensor([0.6211]), 'bias': tensor([0.3333])})\n",
      "OrderedDict({'weights': tensor([0.6227]), 'bias': tensor([0.3323])})\n",
      "OrderedDict({'weights': tensor([0.6245]), 'bias': tensor([0.3318])})\n",
      "OrderedDict({'weights': tensor([0.6261]), 'bias': tensor([0.3308])})\n",
      "OrderedDict({'weights': tensor([0.6279]), 'bias': tensor([0.3303])})\n",
      "OrderedDict({'weights': tensor([0.6295]), 'bias': tensor([0.3293])})\n",
      "epoch : 130 | loss: 0.014155393466353416 | test loss : 0.03233227878808975 \n",
      "OrderedDict({'weights': tensor([0.6313]), 'bias': tensor([0.3288])})\n",
      "OrderedDict({'weights': tensor([0.6331]), 'bias': tensor([0.3283])})\n",
      "OrderedDict({'weights': tensor([0.6347]), 'bias': tensor([0.3273])})\n",
      "OrderedDict({'weights': tensor([0.6365]), 'bias': tensor([0.3268])})\n",
      "OrderedDict({'weights': tensor([0.6381]), 'bias': tensor([0.3258])})\n",
      "OrderedDict({'weights': tensor([0.6399]), 'bias': tensor([0.3253])})\n",
      "OrderedDict({'weights': tensor([0.6415]), 'bias': tensor([0.3243])})\n",
      "OrderedDict({'weights': tensor([0.6433]), 'bias': tensor([0.3238])})\n",
      "OrderedDict({'weights': tensor([0.6451]), 'bias': tensor([0.3233])})\n",
      "OrderedDict({'weights': tensor([0.6467]), 'bias': tensor([0.3223])})\n",
      "epoch : 140 | loss: 0.010716589167714119 | test loss : 0.024059748277068138 \n",
      "OrderedDict({'weights': tensor([0.6485]), 'bias': tensor([0.3218])})\n",
      "OrderedDict({'weights': tensor([0.6501]), 'bias': tensor([0.3208])})\n",
      "OrderedDict({'weights': tensor([0.6519]), 'bias': tensor([0.3203])})\n",
      "OrderedDict({'weights': tensor([0.6534]), 'bias': tensor([0.3193])})\n",
      "OrderedDict({'weights': tensor([0.6552]), 'bias': tensor([0.3188])})\n",
      "OrderedDict({'weights': tensor([0.6568]), 'bias': tensor([0.3178])})\n",
      "OrderedDict({'weights': tensor([0.6586]), 'bias': tensor([0.3173])})\n",
      "OrderedDict({'weights': tensor([0.6604]), 'bias': tensor([0.3168])})\n",
      "OrderedDict({'weights': tensor([0.6620]), 'bias': tensor([0.3158])})\n",
      "OrderedDict({'weights': tensor([0.6638]), 'bias': tensor([0.3153])})\n",
      "epoch : 150 | loss: 0.0072835334576666355 | test loss : 0.016474086791276932 \n",
      "OrderedDict({'weights': tensor([0.6654]), 'bias': tensor([0.3143])})\n",
      "OrderedDict({'weights': tensor([0.6672]), 'bias': tensor([0.3138])})\n",
      "OrderedDict({'weights': tensor([0.6688]), 'bias': tensor([0.3128])})\n",
      "OrderedDict({'weights': tensor([0.6706]), 'bias': tensor([0.3123])})\n",
      "OrderedDict({'weights': tensor([0.6724]), 'bias': tensor([0.3118])})\n",
      "OrderedDict({'weights': tensor([0.6740]), 'bias': tensor([0.3108])})\n",
      "OrderedDict({'weights': tensor([0.6758]), 'bias': tensor([0.3103])})\n",
      "OrderedDict({'weights': tensor([0.6774]), 'bias': tensor([0.3093])})\n",
      "OrderedDict({'weights': tensor([0.6792]), 'bias': tensor([0.3088])})\n",
      "OrderedDict({'weights': tensor([0.6808]), 'bias': tensor([0.3078])})\n",
      "epoch : 160 | loss: 0.0038517764769494534 | test loss : 0.008201557211577892 \n",
      "OrderedDict({'weights': tensor([0.6826]), 'bias': tensor([0.3073])})\n",
      "OrderedDict({'weights': tensor([0.6844]), 'bias': tensor([0.3068])})\n",
      "OrderedDict({'weights': tensor([0.6860]), 'bias': tensor([0.3058])})\n",
      "OrderedDict({'weights': tensor([0.6878]), 'bias': tensor([0.3053])})\n",
      "OrderedDict({'weights': tensor([0.6894]), 'bias': tensor([0.3043])})\n",
      "OrderedDict({'weights': tensor([0.6912]), 'bias': tensor([0.3038])})\n",
      "OrderedDict({'weights': tensor([0.6927]), 'bias': tensor([0.3028])})\n",
      "OrderedDict({'weights': tensor([0.6947]), 'bias': tensor([0.3028])})\n",
      "OrderedDict({'weights': tensor([0.6951]), 'bias': tensor([0.2993])})\n",
      "OrderedDict({'weights': tensor([0.6990]), 'bias': tensor([0.3093])})\n",
      "epoch : 170 | loss: 0.008932482451200485 | test loss : 0.005023092031478882 \n",
      "OrderedDict({'weights': tensor([0.6951]), 'bias': tensor([0.2993])})\n",
      "OrderedDict({'weights': tensor([0.6990]), 'bias': tensor([0.3093])})\n",
      "OrderedDict({'weights': tensor([0.6951]), 'bias': tensor([0.2993])})\n",
      "OrderedDict({'weights': tensor([0.6990]), 'bias': tensor([0.3093])})\n",
      "OrderedDict({'weights': tensor([0.6951]), 'bias': tensor([0.2993])})\n",
      "OrderedDict({'weights': tensor([0.6990]), 'bias': tensor([0.3093])})\n",
      "OrderedDict({'weights': tensor([0.6951]), 'bias': tensor([0.2993])})\n",
      "OrderedDict({'weights': tensor([0.6990]), 'bias': tensor([0.3093])})\n",
      "OrderedDict({'weights': tensor([0.6951]), 'bias': tensor([0.2993])})\n",
      "OrderedDict({'weights': tensor([0.6990]), 'bias': tensor([0.3093])})\n",
      "epoch : 180 | loss: 0.008932482451200485 | test loss : 0.005023092031478882 \n",
      "OrderedDict({'weights': tensor([0.6951]), 'bias': tensor([0.2993])})\n",
      "OrderedDict({'weights': tensor([0.6990]), 'bias': tensor([0.3093])})\n",
      "OrderedDict({'weights': tensor([0.6951]), 'bias': tensor([0.2993])})\n",
      "OrderedDict({'weights': tensor([0.6990]), 'bias': tensor([0.3093])})\n",
      "OrderedDict({'weights': tensor([0.6951]), 'bias': tensor([0.2993])})\n",
      "OrderedDict({'weights': tensor([0.6990]), 'bias': tensor([0.3093])})\n",
      "OrderedDict({'weights': tensor([0.6951]), 'bias': tensor([0.2993])})\n",
      "OrderedDict({'weights': tensor([0.6990]), 'bias': tensor([0.3093])})\n",
      "OrderedDict({'weights': tensor([0.6951]), 'bias': tensor([0.2993])})\n",
      "OrderedDict({'weights': tensor([0.6990]), 'bias': tensor([0.3093])})\n",
      "epoch : 190 | loss: 0.008932482451200485 | test loss : 0.005023092031478882 \n",
      "OrderedDict({'weights': tensor([0.6951]), 'bias': tensor([0.2993])})\n",
      "OrderedDict({'weights': tensor([0.6990]), 'bias': tensor([0.3093])})\n",
      "OrderedDict({'weights': tensor([0.6951]), 'bias': tensor([0.2993])})\n",
      "OrderedDict({'weights': tensor([0.6990]), 'bias': tensor([0.3093])})\n",
      "OrderedDict({'weights': tensor([0.6951]), 'bias': tensor([0.2993])})\n",
      "OrderedDict({'weights': tensor([0.6990]), 'bias': tensor([0.3093])})\n",
      "OrderedDict({'weights': tensor([0.6951]), 'bias': tensor([0.2993])})\n",
      "OrderedDict({'weights': tensor([0.6990]), 'bias': tensor([0.3093])})\n",
      "OrderedDict({'weights': tensor([0.6951]), 'bias': tensor([0.2993])})\n",
      "OrderedDict({'weights': tensor([0.6990]), 'bias': tensor([0.3093])})\n"
     ]
    }
   ],
   "source": [
    "epochs = 200\n",
    "\n",
    "#track different values\n",
    "epoch_count= []\n",
    "loss_values = []\n",
    "test_loss_values =[]\n",
    "# 1.Loop through the data \n",
    "for epoch in range (epochs):\n",
    "    #set the model to training mode \n",
    "    module_0.train()\n",
    "\n",
    "    #2. forward pass\n",
    "    y_pred = module_0(X_train)\n",
    "\n",
    "    #3. Calculate the loss\n",
    "    loss = loss_fn(y_pred , y_train)\n",
    "\n",
    "    #optimizer zero grad\n",
    "    optimizer.zero_grad()\n",
    "    #4. Loss backwards \n",
    "    loss.backward()\n",
    "\n",
    "    #5. optimizer step\n",
    "    optimizer.step()\n",
    "\n",
    "    #testing \n",
    "    module_0.eval() #turns off different unnessasary setting for testing \n",
    "    with torch.inference_mode():\n",
    "        #forward pass\n",
    "        test_pred = module_0(X_test)\n",
    "        #calculate the loss\n",
    "        test_loss = loss_fn(test_pred , y_test)\n",
    "    \n",
    "    #print out what's happening\n",
    "    if epoch % 10 == 0:\n",
    "        epoch_count.append(epoch)\n",
    "        loss_values.append(loss)\n",
    "        test_loss_values.append(test_loss)\n",
    "\n",
    "        print (f\"epoch : {epoch} | loss: {loss} | test loss : {test_loss} \")\n",
    "\n",
    "    #print out model state_dict()\n",
    "    print(module_0.state_dict())"
   ]
  },
  {
   "cell_type": "code",
   "execution_count": 18,
   "metadata": {},
   "outputs": [
    {
     "data": {
      "text/plain": [
       "(array([0.31288138, 0.19767132, 0.08908726, 0.05314853, 0.04543797,\n",
       "        0.04167863, 0.03818933, 0.0347609 , 0.03132383, 0.0278874 ,\n",
       "        0.02445896, 0.02102021, 0.01758547, 0.01415539, 0.01071659,\n",
       "        0.00728353, 0.00385178, 0.00893248, 0.00893248, 0.00893248],\n",
       "       dtype=float32),\n",
       " [tensor(0.4811),\n",
       "  tensor(0.3464),\n",
       "  tensor(0.2173),\n",
       "  tensor(0.1446),\n",
       "  tensor(0.1136),\n",
       "  tensor(0.0992),\n",
       "  tensor(0.0889),\n",
       "  tensor(0.0806),\n",
       "  tensor(0.0723),\n",
       "  tensor(0.0647),\n",
       "  tensor(0.0565),\n",
       "  tensor(0.0482),\n",
       "  tensor(0.0406),\n",
       "  tensor(0.0323),\n",
       "  tensor(0.0241),\n",
       "  tensor(0.0165),\n",
       "  tensor(0.0082),\n",
       "  tensor(0.0050),\n",
       "  tensor(0.0050),\n",
       "  tensor(0.0050)])"
      ]
     },
     "execution_count": 18,
     "metadata": {},
     "output_type": "execute_result"
    }
   ],
   "source": [
    "import numpy as np\n",
    "np.array(torch.tensor(loss_values).numpy()) , test_loss_values"
   ]
  },
  {
   "cell_type": "code",
   "execution_count": 19,
   "metadata": {},
   "outputs": [
    {
     "data": {
      "image/png": "[encoded data removed]",
      "text/plain": [
       "<Figure size 640x480 with 1 Axes>"
      ]
     },
     "metadata": {},
     "output_type": "display_data"
    }
   ],
   "source": [
    "plt.plot(epoch_count, np.array(torch.tensor(loss_values).numpy()), label =\"Train loss\")\n",
    "plt.plot(epoch_count, test_loss_values , label = \" Test loss\")\n",
    "plt.title(\"Training and Test loss curves \")\n",
    "plt.ylabel(\"loss\")\n",
    "plt.xlabel(\"epochs\")\n",
    "plt.legend();\n"
   ]
  },
  {
   "cell_type": "code",
   "execution_count": 20,
   "metadata": {},
   "outputs": [
    {
     "data": {
      "text/plain": [
       "(0.7, 0.3)"
      ]
     },
     "execution_count": 20,
     "metadata": {},
     "output_type": "execute_result"
    }
   ],
   "source": [
    "weight , bias"
   ]
  },
  {
   "cell_type": "code",
   "execution_count": 21,
   "metadata": {},
   "outputs": [
    {
     "data": {
      "image/png": "[encoded data removed]",
      "text/plain": [
       "<Figure size 1000x700 with 1 Axes>"
      ]
     },
     "metadata": {},
     "output_type": "display_data"
    }
   ],
   "source": [
    "plot_predictions(predictions=test_pred);"
   ]
  },
  {
   "cell_type": "code",
   "execution_count": 22,
   "metadata": {},
   "outputs": [
    {
     "data": {
      "image/png": "[encoded data removed]",
      "text/plain": [
       "<Figure size 1000x700 with 1 Axes>"
      ]
     },
     "metadata": {},
     "output_type": "display_data"
    }
   ],
   "source": [
    "plot_predictions(predictions=y_preds);"
   ]
  },
  {
   "cell_type": "markdown",
   "metadata": {},
   "source": [
    "### saving a model in pytorch\n",
    "\n",
    "1. `torch.save()` \n",
    "2. `torch.load()`\n",
    "3. `torch.nn.Module.load_state_dict()`"
   ]
  },
  {
   "cell_type": "code",
   "execution_count": 23,
   "metadata": {},
   "outputs": [
    {
     "name": "stdout",
     "output_type": "stream",
     "text": [
      "saving model to : models\\module_0.pth\n"
     ]
    }
   ],
   "source": [
    "# saving our pytorch model\n",
    "from pathlib import Path\n",
    "\n",
    "#1.create models directory\n",
    "MODEL_PATH = Path(\"models\")\n",
    "MODEL_PATH.mkdir(parents = True , exist_ok=True)\n",
    "\n",
    "#2.create model save path\n",
    "MODEL_NAME = \"module_0.pth\"\n",
    "MODEL_SAVE_PATH = MODEL_PATH / MODEL_NAME\n",
    "\n",
    "#3.save the model sate dict\n",
    "print(f\"saving model to : {MODEL_SAVE_PATH}\")\n",
    "torch.save(obj=module_0.state_dict(),\n",
    "           f = MODEL_SAVE_PATH)"
   ]
  },
  {
   "cell_type": "markdown",
   "metadata": {},
   "source": [
    "### loading a PyTorch model"
   ]
  },
  {
   "cell_type": "code",
   "execution_count": 24,
   "metadata": {},
   "outputs": [
    {
     "name": "stderr",
     "output_type": "stream",
     "text": [
      "C:\\Users\\hksystem\\AppData\\Local\\Temp\\ipykernel_273344\\3418948548.py:3: FutureWarning: You are using `torch.load` with `weights_only=False` (the current default value), which uses the default pickle module implicitly. It is possible to construct malicious pickle data which will execute arbitrary code during unpickling (See https://github.com/pytorch/pytorch/blob/main/SECURITY.md#untrusted-models for more details). In a future release, the default value for `weights_only` will be flipped to `True`. This limits the functions that could be executed during unpickling. Arbitrary objects will no longer be allowed to be loaded via this mode unless they are explicitly allowlisted by the user via `torch.serialization.add_safe_globals`. We recommend you start setting `weights_only=True` for any use case where you don't have full control of the loaded file. Please open an issue on GitHub for any issues related to this experimental feature.\n",
      "  loaded_model_0.load_state_dict(torch.load(f= MODEL_SAVE_PATH))\n"
     ]
    },
    {
     "data": {
      "text/plain": [
       "<All keys matched successfully>"
      ]
     },
     "execution_count": 24,
     "metadata": {},
     "output_type": "execute_result"
    }
   ],
   "source": [
    "loaded_model_0 = LinearRegressionModel()\n",
    "#load the saved sate_dict of model 0 \n",
    "loaded_model_0.load_state_dict(torch.load(f= MODEL_SAVE_PATH))"
   ]
  },
  {
   "cell_type": "code",
   "execution_count": 25,
   "metadata": {},
   "outputs": [
    {
     "data": {
      "text/plain": [
       "tensor([[0.8685],\n",
       "        [0.8825],\n",
       "        [0.8965],\n",
       "        [0.9105],\n",
       "        [0.9245],\n",
       "        [0.9384],\n",
       "        [0.9524],\n",
       "        [0.9664],\n",
       "        [0.9804],\n",
       "        [0.9944]])"
      ]
     },
     "execution_count": 25,
     "metadata": {},
     "output_type": "execute_result"
    }
   ],
   "source": [
    "# make some predictions \n",
    "loaded_model_0.eval()\n",
    "with torch.inference_mode():\n",
    "    loaded_model_preds = loaded_model_0(X_test)\n",
    "\n",
    "loaded_model_preds"
   ]
  },
  {
   "cell_type": "code",
   "execution_count": 26,
   "metadata": {},
   "outputs": [
    {
     "data": {
      "text/plain": [
       "tensor([[0.8685],\n",
       "        [0.8825],\n",
       "        [0.8965],\n",
       "        [0.9105],\n",
       "        [0.9245],\n",
       "        [0.9384],\n",
       "        [0.9524],\n",
       "        [0.9664],\n",
       "        [0.9804],\n",
       "        [0.9944]])"
      ]
     },
     "execution_count": 26,
     "metadata": {},
     "output_type": "execute_result"
    }
   ],
   "source": [
    "# make some model preds \n",
    "with torch.inference_mode():\n",
    "    y_preds = module_0(X_test)\n",
    "\n",
    "y_preds"
   ]
  },
  {
   "cell_type": "code",
   "execution_count": 27,
   "metadata": {},
   "outputs": [
    {
     "data": {
      "text/plain": [
       "tensor([[True],\n",
       "        [True],\n",
       "        [True],\n",
       "        [True],\n",
       "        [True],\n",
       "        [True],\n",
       "        [True],\n",
       "        [True],\n",
       "        [True],\n",
       "        [True]])"
      ]
     },
     "execution_count": 27,
     "metadata": {},
     "output_type": "execute_result"
    }
   ],
   "source": [
    "y_preds == loaded_model_preds"
   ]
  },
  {
   "cell_type": "markdown",
   "metadata": {},
   "source": [
    "### Review :\n",
    "0. import relevent libraries and check cuda"
   ]
  },
  {
   "cell_type": "code",
   "execution_count": 28,
   "metadata": {},
   "outputs": [
    {
     "data": {
      "text/plain": [
       "'2.4.0'"
      ]
     },
     "execution_count": 28,
     "metadata": {},
     "output_type": "execute_result"
    }
   ],
   "source": [
    "import torch\n",
    "from torch import nn\n",
    "import matplotlib.pyplot as plt\n",
    "\n",
    "torch.__version__"
   ]
  },
  {
   "cell_type": "code",
   "execution_count": 29,
   "metadata": {},
   "outputs": [
    {
     "name": "stdout",
     "output_type": "stream",
     "text": [
      "using : cuda\n"
     ]
    }
   ],
   "source": [
    "# setup device agnostic code \n",
    "device = \"cuda\" if torch.cuda.is_available() else \"cpu\"\n",
    "print(f\"using : {device}\")"
   ]
  },
  {
   "cell_type": "markdown",
   "metadata": {},
   "source": [
    "1. preparing data"
   ]
  },
  {
   "cell_type": "code",
   "execution_count": 30,
   "metadata": {},
   "outputs": [
    {
     "data": {
      "text/plain": [
       "(tensor([[0.0000],\n",
       "         [0.0200],\n",
       "         [0.0400],\n",
       "         [0.0600],\n",
       "         [0.0800],\n",
       "         [0.1000],\n",
       "         [0.1200],\n",
       "         [0.1400],\n",
       "         [0.1600],\n",
       "         [0.1800]]),\n",
       " tensor([[0.3000],\n",
       "         [0.3140],\n",
       "         [0.3280],\n",
       "         [0.3420],\n",
       "         [0.3560],\n",
       "         [0.3700],\n",
       "         [0.3840],\n",
       "         [0.3980],\n",
       "         [0.4120],\n",
       "         [0.4260]]))"
      ]
     },
     "execution_count": 30,
     "metadata": {},
     "output_type": "execute_result"
    }
   ],
   "source": [
    "weight = 0.7\n",
    "bias = 0.3 \n",
    "\n",
    "# create range values \n",
    "start = 0\n",
    "end = 1 \n",
    "step = 0.02\n",
    "X = torch.arange(start,end,step).unsqueeze(dim=1)\n",
    "y = weight * X + bias\n",
    "X[:10] , y[:10]\n",
    "\n"
   ]
  },
  {
   "cell_type": "code",
   "execution_count": 31,
   "metadata": {},
   "outputs": [
    {
     "data": {
      "text/plain": [
       "(40, 40, 10, 10)"
      ]
     },
     "execution_count": 31,
     "metadata": {},
     "output_type": "execute_result"
    }
   ],
   "source": [
    "train_split=int(0.8 * len(X))\n",
    "X_train , y_train = X[:train_split] , y[:train_split]\n",
    "X_test , y_test = X[train_split:] , y[train_split:]\n",
    "len(X_train) , len(y_train) , len(X_test) , len(y_test)"
   ]
  },
  {
   "cell_type": "code",
   "execution_count": 32,
   "metadata": {},
   "outputs": [
    {
     "data": {
      "image/png": "[encoded data removed]",
      "text/plain": [
       "<Figure size 1000x700 with 1 Axes>"
      ]
     },
     "metadata": {},
     "output_type": "display_data"
    }
   ],
   "source": [
    "# plot the data \n",
    "plot_predictions(X_train , y_train , X_test , y_test)"
   ]
  },
  {
   "cell_type": "markdown",
   "metadata": {},
   "source": [
    "2. Building a PyTorch model \n",
    "* Linear Regression "
   ]
  },
  {
   "cell_type": "code",
   "execution_count": 33,
   "metadata": {},
   "outputs": [
    {
     "data": {
      "text/plain": [
       "(LinearRegressionModelV2(\n",
       "   (linear_layer): Linear(in_features=1, out_features=1, bias=True)\n",
       " ),\n",
       " OrderedDict([('linear_layer.weight', tensor([[0.7645]], device='cuda:0')),\n",
       "              ('linear_layer.bias', tensor([0.8300], device='cuda:0'))]))"
      ]
     },
     "execution_count": 33,
     "metadata": {},
     "output_type": "execute_result"
    }
   ],
   "source": [
    "class LinearRegressionModelV2(nn.Module):\n",
    "    def __init__(self):\n",
    "        super().__init__()\n",
    "        # use nn.Linear() for crating the model parameters \n",
    "        self.linear_layer = nn.Linear(in_features= 1 , out_features= 1)\n",
    "\n",
    "    def forward(self ,x:torch.Tensor) -> torch.Tensor:\n",
    "        return self.linear_layer(X)\n",
    "    \n",
    "# set the manual seed \n",
    "torch.manual_seed(42)\n",
    "module_1 = LinearRegressionModelV2()\n",
    "module_1 = module_1.to(device)\n",
    "module_1 , module_1.state_dict()\n"
   ]
  },
  {
   "cell_type": "code",
   "execution_count": 34,
   "metadata": {},
   "outputs": [
    {
     "data": {
      "text/plain": [
       "(tensor([[0.0000],\n",
       "         [0.0200],\n",
       "         [0.0400],\n",
       "         [0.0600],\n",
       "         [0.0800]]),\n",
       " tensor([[0.3000],\n",
       "         [0.3140],\n",
       "         [0.3280],\n",
       "         [0.3420],\n",
       "         [0.3560]]))"
      ]
     },
     "execution_count": 34,
     "metadata": {},
     "output_type": "execute_result"
    }
   ],
   "source": [
    "X_train[:5] , y_train[:5]"
   ]
  },
  {
   "cell_type": "code",
   "execution_count": 35,
   "metadata": {},
   "outputs": [
    {
     "data": {
      "text/plain": [
       "device(type='cuda', index=0)"
      ]
     },
     "execution_count": 35,
     "metadata": {},
     "output_type": "execute_result"
    }
   ],
   "source": [
    "# check the model current device \n",
    "next(module_1.parameters()).device"
   ]
  },
  {
   "cell_type": "code",
   "execution_count": 36,
   "metadata": {},
   "outputs": [
    {
     "data": {
      "text/plain": [
       "device(type='cuda', index=0)"
      ]
     },
     "execution_count": 36,
     "metadata": {},
     "output_type": "execute_result"
    }
   ],
   "source": [
    "module_1.to(device)\n",
    "next(module_1.parameters()).device"
   ]
  },
  {
   "cell_type": "markdown",
   "metadata": {},
   "source": [
    "3. Train the model \n",
    "* Loss function \n",
    "* optimizer \n",
    "* training loop \n",
    "* testing loop "
   ]
  },
  {
   "cell_type": "code",
   "execution_count": 37,
   "metadata": {},
   "outputs": [],
   "source": [
    "#setup loss function  \n",
    "loss_fn = nn.L1Loss() #MAE\n",
    "#setup optimizer \n",
    "optimizer = torch.optim.SGD(params=module_1.parameters() , lr=0.01 )\n"
   ]
  },
  {
   "cell_type": "code",
   "execution_count": 38,
   "metadata": {},
   "outputs": [
    {
     "ename": "RuntimeError",
     "evalue": "Expected all tensors to be on the same device, but found at least two devices, cuda:0 and cpu! (when checking argument for argument mat1 in method wrapper_CUDA_addmm)",
     "output_type": "error",
     "traceback": [
      "\u001b[1;31m---------------------------------------------------------------------------\u001b[0m",
      "\u001b[1;31mRuntimeError\u001b[0m                              Traceback (most recent call last)",
      "Cell \u001b[1;32mIn[38], line 17\u001b[0m\n\u001b[0;32m     14\u001b[0m module_1\u001b[38;5;241m.\u001b[39mtrain()\n\u001b[0;32m     16\u001b[0m \u001b[38;5;66;03m#1. forward pass\u001b[39;00m\n\u001b[1;32m---> 17\u001b[0m y_pred \u001b[38;5;241m=\u001b[39m \u001b[43mmodule_1\u001b[49m\u001b[43m(\u001b[49m\u001b[43mX_train\u001b[49m\u001b[43m)\u001b[49m\n\u001b[0;32m     18\u001b[0m \u001b[38;5;66;03m#2. Calculate error\u001b[39;00m\n\u001b[0;32m     19\u001b[0m loss \u001b[38;5;241m=\u001b[39m loss_fn(y_pred , y_train)\n",
      "File \u001b[1;32mc:\\Users\\hksystem\\anaconda3\\envs\\MLstudio\\Lib\\site-packages\\torch\\nn\\modules\\module.py:1553\u001b[0m, in \u001b[0;36mModule._wrapped_call_impl\u001b[1;34m(self, *args, **kwargs)\u001b[0m\n\u001b[0;32m   1551\u001b[0m     \u001b[38;5;28;01mreturn\u001b[39;00m \u001b[38;5;28mself\u001b[39m\u001b[38;5;241m.\u001b[39m_compiled_call_impl(\u001b[38;5;241m*\u001b[39margs, \u001b[38;5;241m*\u001b[39m\u001b[38;5;241m*\u001b[39mkwargs)  \u001b[38;5;66;03m# type: ignore[misc]\u001b[39;00m\n\u001b[0;32m   1552\u001b[0m \u001b[38;5;28;01melse\u001b[39;00m:\n\u001b[1;32m-> 1553\u001b[0m     \u001b[38;5;28;01mreturn\u001b[39;00m \u001b[38;5;28;43mself\u001b[39;49m\u001b[38;5;241;43m.\u001b[39;49m\u001b[43m_call_impl\u001b[49m\u001b[43m(\u001b[49m\u001b[38;5;241;43m*\u001b[39;49m\u001b[43margs\u001b[49m\u001b[43m,\u001b[49m\u001b[43m \u001b[49m\u001b[38;5;241;43m*\u001b[39;49m\u001b[38;5;241;43m*\u001b[39;49m\u001b[43mkwargs\u001b[49m\u001b[43m)\u001b[49m\n",
      "File \u001b[1;32mc:\\Users\\hksystem\\anaconda3\\envs\\MLstudio\\Lib\\site-packages\\torch\\nn\\modules\\module.py:1562\u001b[0m, in \u001b[0;36mModule._call_impl\u001b[1;34m(self, *args, **kwargs)\u001b[0m\n\u001b[0;32m   1557\u001b[0m \u001b[38;5;66;03m# If we don't have any hooks, we want to skip the rest of the logic in\u001b[39;00m\n\u001b[0;32m   1558\u001b[0m \u001b[38;5;66;03m# this function, and just call forward.\u001b[39;00m\n\u001b[0;32m   1559\u001b[0m \u001b[38;5;28;01mif\u001b[39;00m \u001b[38;5;129;01mnot\u001b[39;00m (\u001b[38;5;28mself\u001b[39m\u001b[38;5;241m.\u001b[39m_backward_hooks \u001b[38;5;129;01mor\u001b[39;00m \u001b[38;5;28mself\u001b[39m\u001b[38;5;241m.\u001b[39m_backward_pre_hooks \u001b[38;5;129;01mor\u001b[39;00m \u001b[38;5;28mself\u001b[39m\u001b[38;5;241m.\u001b[39m_forward_hooks \u001b[38;5;129;01mor\u001b[39;00m \u001b[38;5;28mself\u001b[39m\u001b[38;5;241m.\u001b[39m_forward_pre_hooks\n\u001b[0;32m   1560\u001b[0m         \u001b[38;5;129;01mor\u001b[39;00m _global_backward_pre_hooks \u001b[38;5;129;01mor\u001b[39;00m _global_backward_hooks\n\u001b[0;32m   1561\u001b[0m         \u001b[38;5;129;01mor\u001b[39;00m _global_forward_hooks \u001b[38;5;129;01mor\u001b[39;00m _global_forward_pre_hooks):\n\u001b[1;32m-> 1562\u001b[0m     \u001b[38;5;28;01mreturn\u001b[39;00m \u001b[43mforward_call\u001b[49m\u001b[43m(\u001b[49m\u001b[38;5;241;43m*\u001b[39;49m\u001b[43margs\u001b[49m\u001b[43m,\u001b[49m\u001b[43m \u001b[49m\u001b[38;5;241;43m*\u001b[39;49m\u001b[38;5;241;43m*\u001b[39;49m\u001b[43mkwargs\u001b[49m\u001b[43m)\u001b[49m\n\u001b[0;32m   1564\u001b[0m \u001b[38;5;28;01mtry\u001b[39;00m:\n\u001b[0;32m   1565\u001b[0m     result \u001b[38;5;241m=\u001b[39m \u001b[38;5;28;01mNone\u001b[39;00m\n",
      "Cell \u001b[1;32mIn[33], line 8\u001b[0m, in \u001b[0;36mLinearRegressionModelV2.forward\u001b[1;34m(self, x)\u001b[0m\n\u001b[0;32m      7\u001b[0m \u001b[38;5;28;01mdef\u001b[39;00m \u001b[38;5;21mforward\u001b[39m(\u001b[38;5;28mself\u001b[39m ,x:torch\u001b[38;5;241m.\u001b[39mTensor) \u001b[38;5;241m-\u001b[39m\u001b[38;5;241m>\u001b[39m torch\u001b[38;5;241m.\u001b[39mTensor:\n\u001b[1;32m----> 8\u001b[0m     \u001b[38;5;28;01mreturn\u001b[39;00m \u001b[38;5;28;43mself\u001b[39;49m\u001b[38;5;241;43m.\u001b[39;49m\u001b[43mlinear_layer\u001b[49m\u001b[43m(\u001b[49m\u001b[43mX\u001b[49m\u001b[43m)\u001b[49m\n",
      "File \u001b[1;32mc:\\Users\\hksystem\\anaconda3\\envs\\MLstudio\\Lib\\site-packages\\torch\\nn\\modules\\module.py:1553\u001b[0m, in \u001b[0;36mModule._wrapped_call_impl\u001b[1;34m(self, *args, **kwargs)\u001b[0m\n\u001b[0;32m   1551\u001b[0m     \u001b[38;5;28;01mreturn\u001b[39;00m \u001b[38;5;28mself\u001b[39m\u001b[38;5;241m.\u001b[39m_compiled_call_impl(\u001b[38;5;241m*\u001b[39margs, \u001b[38;5;241m*\u001b[39m\u001b[38;5;241m*\u001b[39mkwargs)  \u001b[38;5;66;03m# type: ignore[misc]\u001b[39;00m\n\u001b[0;32m   1552\u001b[0m \u001b[38;5;28;01melse\u001b[39;00m:\n\u001b[1;32m-> 1553\u001b[0m     \u001b[38;5;28;01mreturn\u001b[39;00m \u001b[38;5;28;43mself\u001b[39;49m\u001b[38;5;241;43m.\u001b[39;49m\u001b[43m_call_impl\u001b[49m\u001b[43m(\u001b[49m\u001b[38;5;241;43m*\u001b[39;49m\u001b[43margs\u001b[49m\u001b[43m,\u001b[49m\u001b[43m \u001b[49m\u001b[38;5;241;43m*\u001b[39;49m\u001b[38;5;241;43m*\u001b[39;49m\u001b[43mkwargs\u001b[49m\u001b[43m)\u001b[49m\n",
      "File \u001b[1;32mc:\\Users\\hksystem\\anaconda3\\envs\\MLstudio\\Lib\\site-packages\\torch\\nn\\modules\\module.py:1562\u001b[0m, in \u001b[0;36mModule._call_impl\u001b[1;34m(self, *args, **kwargs)\u001b[0m\n\u001b[0;32m   1557\u001b[0m \u001b[38;5;66;03m# If we don't have any hooks, we want to skip the rest of the logic in\u001b[39;00m\n\u001b[0;32m   1558\u001b[0m \u001b[38;5;66;03m# this function, and just call forward.\u001b[39;00m\n\u001b[0;32m   1559\u001b[0m \u001b[38;5;28;01mif\u001b[39;00m \u001b[38;5;129;01mnot\u001b[39;00m (\u001b[38;5;28mself\u001b[39m\u001b[38;5;241m.\u001b[39m_backward_hooks \u001b[38;5;129;01mor\u001b[39;00m \u001b[38;5;28mself\u001b[39m\u001b[38;5;241m.\u001b[39m_backward_pre_hooks \u001b[38;5;129;01mor\u001b[39;00m \u001b[38;5;28mself\u001b[39m\u001b[38;5;241m.\u001b[39m_forward_hooks \u001b[38;5;129;01mor\u001b[39;00m \u001b[38;5;28mself\u001b[39m\u001b[38;5;241m.\u001b[39m_forward_pre_hooks\n\u001b[0;32m   1560\u001b[0m         \u001b[38;5;129;01mor\u001b[39;00m _global_backward_pre_hooks \u001b[38;5;129;01mor\u001b[39;00m _global_backward_hooks\n\u001b[0;32m   1561\u001b[0m         \u001b[38;5;129;01mor\u001b[39;00m _global_forward_hooks \u001b[38;5;129;01mor\u001b[39;00m _global_forward_pre_hooks):\n\u001b[1;32m-> 1562\u001b[0m     \u001b[38;5;28;01mreturn\u001b[39;00m \u001b[43mforward_call\u001b[49m\u001b[43m(\u001b[49m\u001b[38;5;241;43m*\u001b[39;49m\u001b[43margs\u001b[49m\u001b[43m,\u001b[49m\u001b[43m \u001b[49m\u001b[38;5;241;43m*\u001b[39;49m\u001b[38;5;241;43m*\u001b[39;49m\u001b[43mkwargs\u001b[49m\u001b[43m)\u001b[49m\n\u001b[0;32m   1564\u001b[0m \u001b[38;5;28;01mtry\u001b[39;00m:\n\u001b[0;32m   1565\u001b[0m     result \u001b[38;5;241m=\u001b[39m \u001b[38;5;28;01mNone\u001b[39;00m\n",
      "File \u001b[1;32mc:\\Users\\hksystem\\anaconda3\\envs\\MLstudio\\Lib\\site-packages\\torch\\nn\\modules\\linear.py:117\u001b[0m, in \u001b[0;36mLinear.forward\u001b[1;34m(self, input)\u001b[0m\n\u001b[0;32m    116\u001b[0m \u001b[38;5;28;01mdef\u001b[39;00m \u001b[38;5;21mforward\u001b[39m(\u001b[38;5;28mself\u001b[39m, \u001b[38;5;28minput\u001b[39m: Tensor) \u001b[38;5;241m-\u001b[39m\u001b[38;5;241m>\u001b[39m Tensor:\n\u001b[1;32m--> 117\u001b[0m     \u001b[38;5;28;01mreturn\u001b[39;00m \u001b[43mF\u001b[49m\u001b[38;5;241;43m.\u001b[39;49m\u001b[43mlinear\u001b[49m\u001b[43m(\u001b[49m\u001b[38;5;28;43minput\u001b[39;49m\u001b[43m,\u001b[49m\u001b[43m \u001b[49m\u001b[38;5;28;43mself\u001b[39;49m\u001b[38;5;241;43m.\u001b[39;49m\u001b[43mweight\u001b[49m\u001b[43m,\u001b[49m\u001b[43m \u001b[49m\u001b[38;5;28;43mself\u001b[39;49m\u001b[38;5;241;43m.\u001b[39;49m\u001b[43mbias\u001b[49m\u001b[43m)\u001b[49m\n",
      "\u001b[1;31mRuntimeError\u001b[0m: Expected all tensors to be on the same device, but found at least two devices, cuda:0 and cpu! (when checking argument for argument mat1 in method wrapper_CUDA_addmm)"
     ]
    }
   ],
   "source": [
    "# Training loop \n",
    "torch.manual_seed(42)\n",
    "\n",
    "epochs= 200\n",
    "module_1 = module_1.to(device)\n",
    "\n",
    "#put data on the target device \n",
    "X_train = X_train.to(device)\n",
    "y_train = y_train.to(device)\n",
    "X_test = X_test.to(device)\n",
    "y_test = y_test.to(device)\n",
    "\n",
    "for epoch in range(epochs):\n",
    "    module_1.train()\n",
    "    \n",
    "    #1. forward pass\n",
    "    y_pred = module_1(X_train)\n",
    "    #2. Calculate error\n",
    "    loss = loss_fn(y_pred , y_train)\n",
    "\n",
    "    #3. Optimizer\n",
    "    optimizer.zero_grad()\n",
    "\n",
    "    #4. backpropagation\n",
    "    loss.backward()\n",
    "\n",
    "    #5. optimizer step \n",
    "    optimizer.step()\n",
    "\n",
    "    ### testing \n",
    "    module_1.eval()\n",
    "    with torch.inference_mode():\n",
    "        test_pred = module_1(X_test)\n",
    "        test_loss = loss_fn(test_pred,y_test)\n",
    "    \n",
    "    #print out what's happeinig \n",
    "    if epoch % 10 == 0 :\n",
    "        print(f\"epoch : {epoch} | Loss : {loss} | test_loss : {test_loss}\")\n"
   ]
  },
  {
   "cell_type": "code",
   "execution_count": null,
   "metadata": {},
   "outputs": [],
   "source": []
  }
 ],
 "metadata": {
  "kernelspec": {
   "display_name": "MLstudio",
   "language": "python",
   "name": "python3"
  },
  "language_info": {
   "codemirror_mode": {
    "name": "ipython",
    "version": 3
   },
   "file_extension": ".py",
   "mimetype": "text/x-python",
   "name": "python",
   "nbconvert_exporter": "python",
   "pygments_lexer": "ipython3",
   "version": "3.12.4"
  }
 },
 "nbformat": 4,
 "nbformat_minor": 2
}
